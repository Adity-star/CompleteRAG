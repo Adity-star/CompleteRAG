{
  "nbformat": 4,
  "nbformat_minor": 0,
  "metadata": {
    "colab": {
      "provenance": []
    },
    "kernelspec": {
      "name": "python3",
      "display_name": "Python 3"
    },
    "language_info": {
      "name": "python"
    }
  },
  "cells": [
    {
      "cell_type": "markdown",
      "source": [
        "# Query Transformations for Improved Retrieval in RAG Systems\n",
        "1. Query Rewriting\n",
        "2. Step-back Prompting\n",
        "3. Sub-query Decomposition"
      ],
      "metadata": {
        "id": "HGRjpgqi_JHo"
      }
    },
    {
      "cell_type": "code",
      "execution_count": null,
      "metadata": {
        "id": "otQwuV1q--EL"
      },
      "outputs": [],
      "source": [
        "!pip install langchain langchain-openai python-dotenv langchain-nvidia-ai-endpoints"
      ]
    },
    {
      "cell_type": "code",
      "source": [
        "import getpass\n",
        "import os\n",
        "\n",
        "\n",
        "def _set_env(var: str):\n",
        "    if not os.environ.get(var):\n",
        "        os.environ[var] = getpass.getpass(f\"{var}: \")\n",
        "\n",
        "_set_env(\"NVIDIA_API_KEY\")"
      ],
      "metadata": {
        "colab": {
          "base_uri": "https://localhost:8080/"
        },
        "id": "EkJ68exf_TzP",
        "outputId": "179685d2-8889-4aef-917b-48b79c161455"
      },
      "execution_count": 2,
      "outputs": [
        {
          "name": "stdout",
          "output_type": "stream",
          "text": [
            "NVIDIA_API_KEY: ··········\n"
          ]
        }
      ]
    },
    {
      "cell_type": "code",
      "source": [
        "from langchain_nvidia_ai_endpoints import ChatNVIDIA\n",
        "from langchain.prompts import PromptTemplate\n",
        "\n",
        "\n",
        "llm = ChatNVIDIA(model=\"meta/llama-3.1-8b-instruct\")\n",
        "\n",
        "llm.invoke(\"what is capital of India\").content"
      ],
      "metadata": {
        "colab": {
          "base_uri": "https://localhost:8080/",
          "height": 36
        },
        "id": "ZEfrRtQN_aV7",
        "outputId": "2eccc9b1-b133-4af3-b562-f590cbb91f5d"
      },
      "execution_count": 4,
      "outputs": [
        {
          "output_type": "execute_result",
          "data": {
            "text/plain": [
              "'The capital of India is **New Delhi**.'"
            ],
            "application/vnd.google.colaboratory.intrinsic+json": {
              "type": "string"
            }
          },
          "metadata": {},
          "execution_count": 4
        }
      ]
    },
    {
      "cell_type": "markdown",
      "source": [
        "## 1. Query rewriting\n",
        "To make queries more specific and detailed, improving the likelihood of retrieving relevant information."
      ],
      "metadata": {
        "id": "r-pYdQhe_yUv"
      }
    },
    {
      "cell_type": "code",
      "source": [
        "re_write_llm = ChatNVIDIA(model=\"meta/llama-3.1-8b-instruct\",temperature=0,max_tokens=4000)\n",
        "\n",
        "query_rewrite_template = \"\"\"You are an AI assistant tasked with reformulating user queries to improve retrieval in a RAG system.\n",
        "Given the original query, rewrite it to be more specific, detailed, and likely to retrieve relevant information.\n",
        "\n",
        "Original query: {original_query}\n",
        "\n",
        "Rewritten query:\"\"\"\n",
        "\n",
        "\n",
        "query_rewrite_prompt = PromptTemplate(\n",
        "    input_variables=[\"original_query\"],\n",
        "    template=query_rewrite_template,\n",
        ")\n",
        "\n",
        "query_rewrite = query_rewrite_prompt | re_write_llm\n",
        "\n",
        "def rewrite_query(original_query):\n",
        "  response = query_rewrite.invoke(original_query)\n",
        "  return response.content\n"
      ],
      "metadata": {
        "id": "hZDYgz3d_7SB"
      },
      "execution_count": 11,
      "outputs": []
    },
    {
      "cell_type": "code",
      "source": [
        "original_query = \"What are the impacts of using AI on humans?\"\n",
        "rewritten_query = rewrite_query(original_query)\n",
        "print(\"Original query:\", original_query)\n",
        "print(\"Rewritten query:\", rewritten_query)"
      ],
      "metadata": {
        "colab": {
          "base_uri": "https://localhost:8080/"
        },
        "id": "kKrytkTH_7Oq",
        "outputId": "d8164365-32d8-4b24-9e1c-761e835ae772"
      },
      "execution_count": 12,
      "outputs": [
        {
          "output_type": "stream",
          "name": "stdout",
          "text": [
            "Original query: What are the impacts of using AI on humans?\n",
            "Rewritten query: To improve retrieval in a RAG (Retrieval-Augmented Generation) system, I'll reformulate the original query to make it more specific, detailed, and likely to retrieve relevant information. Here's the rewritten query:\n",
            "\n",
            "\"What are the cognitive, emotional, and social effects of integrating artificial intelligence systems into human work environments, including changes in job satisfaction, productivity, and mental health, as well as potential benefits such as improved decision-making and enhanced collaboration?\"\n",
            "\n",
            "This rewritten query is more specific and detailed because it:\n",
            "\n",
            "1. Specifies the context: \"integrating artificial intelligence systems into human work environments\"\n",
            "2. Identifies the effects: \"cognitive, emotional, and social\"\n",
            "3. Provides more specific outcomes: \"changes in job satisfaction, productivity, and mental health\"\n",
            "4. Includes potential benefits: \"improved decision-making and enhanced collaboration\"\n",
            "\n",
            "By making these changes, the rewritten query is more likely to retrieve relevant information from the RAG system, including articles, research papers, and other sources that discuss the impacts of AI on humans in a more nuanced and detailed way.\n"
          ]
        }
      ]
    },
    {
      "cell_type": "markdown",
      "source": [
        "## 2. Step back Prompting\n",
        " To generate broader, more general queries that can help retrieve relevant background information."
      ],
      "metadata": {
        "id": "Jw8wDfTB_7MH"
      }
    },
    {
      "cell_type": "code",
      "source": [
        "step_back_llm = ChatNVIDIA(model=\"meta/llama-3.1-8b-instruct\",temperature=0,max_tokens=4000)\n",
        "\n",
        "# Create a prompt template for step-back prompting\n",
        "step_back_template = \"\"\"You are an AI assistant tasked with generating broader, more general queries to improve context retrieval in a RAG system.\n",
        "Given the original query, generate a step-back query that is more general and can help retrieve relevant background information.\n",
        "\n",
        "Original query: {original_query}\n",
        "\n",
        "Step-back query:\"\"\"\n",
        "\n",
        "step_back_prompt = PromptTemplate(\n",
        "    input_variables=[\"original_query\"],\n",
        "    template=step_back_template,\n",
        ")\n",
        "\n",
        "step_back_chain = step_back_prompt | step_back_llm\n",
        "\n",
        "def generate_step_back_query(original_query):\n",
        "  response = step_back_chain.invoke(original_query)\n",
        "  return response.content"
      ],
      "metadata": {
        "id": "Cj_rSSKX_7Ji"
      },
      "execution_count": 13,
      "outputs": []
    },
    {
      "cell_type": "code",
      "source": [
        "original_query = \"What are the impacts of using AI on humans?\"\n",
        "step_back_query = generate_step_back_query(original_query)\n",
        "print(\"Original query:\", original_query)\n",
        "print(\"Step-back query:\", step_back_query)"
      ],
      "metadata": {
        "colab": {
          "base_uri": "https://localhost:8080/"
        },
        "id": "56Yzjxj7_7HG",
        "outputId": "920dc8a1-5cff-45f2-9375-5cf7fc2c7874"
      },
      "execution_count": 14,
      "outputs": [
        {
          "output_type": "stream",
          "name": "stdout",
          "text": [
            "Original query: What are the impacts of using AI on humans?\n",
            "Step-back query: To generate a step-back query that is more general and can help retrieve relevant background information, I would ask:\n",
            "\n",
            "\"What are the effects of technological advancements on human society?\"\n",
            "\n",
            "This step-back query is more general because it:\n",
            "\n",
            "1. Removes the specific focus on AI, allowing the retrieval of information on various technological advancements.\n",
            "2. Expands the scope to include the broader impact on human society, rather than just the individual.\n",
            "3. Encourages the retrieval of background information on the historical, social, and cultural context of technological advancements.\n",
            "\n",
            "This query can help retrieve relevant background information on topics such as:\n",
            "\n",
            "* The history of technological advancements and their impact on society\n",
            "* The social and cultural implications of technological change\n",
            "* The effects of technological advancements on human relationships, work, and daily life\n",
            "\n",
            "By asking this step-back query, the RAG system can retrieve a broader range of relevant information, which can then be used to provide more comprehensive and accurate answers to the original query.\n"
          ]
        }
      ]
    },
    {
      "cell_type": "markdown",
      "source": [
        "## 3. Sub-query Decomposition\n",
        "To break down complex queries into simpler sub-queries for more comprehensive information retrieval."
      ],
      "metadata": {
        "id": "4Lvv6-W7_7Eu"
      }
    },
    {
      "cell_type": "code",
      "source": [
        "sub_query_llm = ChatNVIDIA(model=\"meta/llama-3.1-8b-instruct\",temperature=0,max_tokens=4000)\n",
        "\n",
        "\n",
        "# Create a prompt template for sub-query decomposition\n",
        "subquery_decomposition_template = \"\"\"You are an AI assistant tasked with breaking down complex queries into simpler sub-queries for a RAG system.\n",
        "Given the original query, decompose it into 2-4 simpler sub-queries that, when answered together, would provide a comprehensive response to the original query.\n",
        "\n",
        "Original query: {original_query}\n",
        "\n",
        "example: What are the impacts of climate change on the environment?\n",
        "\n",
        "Sub-queries:\n",
        "1. What are the impacts of climate change on biodiversity?\n",
        "2. How does climate change affect the oceans?\n",
        "3. What are the effects of climate change on agriculture?\n",
        "4. What are the impacts of climate change on human health?\"\"\"\n",
        "\n",
        "subquery_decomposition_prompt = PromptTemplate(\n",
        "    input_variables=[\"original_query\"],\n",
        "    template=subquery_decomposition_template,\n",
        ")\n",
        "\n",
        "subquery_decomposer_chain = subquery_decomposition_prompt | sub_query_llm\n",
        "\n",
        "def decompose_query(original_query):\n",
        "  response = subquery_decomposer_chain.invoke(original_query).content\n",
        "  sub_queries = [q.strip() for q in response.split('\\n') if q.strip() and not q.strip().startswith('Sub-queries:')]\n",
        "  return sub_queries"
      ],
      "metadata": {
        "id": "vgTJbksu_7B3"
      },
      "execution_count": 16,
      "outputs": []
    },
    {
      "cell_type": "code",
      "source": [
        "original_query = \"What are the impacts of using AI on humans?\"\n",
        "sub_queries = decompose_query(original_query)\n",
        "print(\"Original query:\", original_query)\n",
        "print(\"Sub-queries:\", sub_queries)"
      ],
      "metadata": {
        "colab": {
          "base_uri": "https://localhost:8080/"
        },
        "id": "akSNj-OYCoEY",
        "outputId": "34b4dd5b-1141-49f6-e7ff-62a00d895218"
      },
      "execution_count": 17,
      "outputs": [
        {
          "output_type": "stream",
          "name": "stdout",
          "text": [
            "Original query: What are the impacts of using AI on humans?\n",
            "Sub-queries: [\"Here's the breakdown of the original query into 4 simpler sub-queries for a RAG (Red, Amber, Green) system:\", '**Original Query:** What are the impacts of using AI on humans?', '**Sub-queries:**', '1. **What are the positive impacts of AI on human productivity and efficiency?**', '* RAG Status: Green (if AI has significantly improved productivity and efficiency)', '* RAG Status: Amber (if AI has had some positive impact, but with limitations or trade-offs)', '* RAG Status: Red (if AI has had no significant positive impact on human productivity and efficiency)', '2. **What are the potential risks of AI on human employment and job displacement?**', '* RAG Status: Red (if AI has led to significant job displacement and unemployment)', '* RAG Status: Amber (if AI has led to some job displacement, but with opportunities for upskilling and reskilling)', '* RAG Status: Green (if AI has not led to significant job displacement)', '3. **How does AI affect human mental health and well-being?**', '* RAG Status: Red (if AI has had a significant negative impact on mental health and well-being)', '* RAG Status: Amber (if AI has had some negative impact, but with mitigating factors)', '* RAG Status: Green (if AI has had no significant negative impact on mental health and well-being)', '4. **What are the implications of AI on human relationships and social connections?**', '* RAG Status: Red (if AI has led to significant social isolation and disconnection)', '* RAG Status: Amber (if AI has had some impact on social connections, but with opportunities for positive relationships)', '* RAG Status: Green (if AI has not led to significant social isolation)', \"By answering these sub-queries, you'll get a comprehensive understanding of the impacts of AI on humans, which can inform decision-making and policy development.\"]\n"
          ]
        }
      ]
    },
    {
      "cell_type": "code",
      "source": [],
      "metadata": {
        "id": "bVpCGDaYCvtg"
      },
      "execution_count": null,
      "outputs": []
    }
  ]
}