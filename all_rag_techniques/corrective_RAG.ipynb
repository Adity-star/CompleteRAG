{
  "nbformat": 4,
  "nbformat_minor": 0,
  "metadata": {
    "colab": {
      "provenance": []
    },
    "kernelspec": {
      "name": "python3",
      "display_name": "Python 3"
    },
    "language_info": {
      "name": "python"
    }
  },
  "cells": [
    {
      "cell_type": "markdown",
      "source": [
        "# CRAG(Corrective RAG)\n",
        "Corrective retrieval-augmented generation (CRAG) is an improved version of RAG that aims to make language models more accurate.\n",
        "\n",
        "While traditional RAG simply uses retrieved documents to help generate text, CRAG takes it a step further by actively checking and refining these documents to ensure they are relevant and accurate. This helps reduce errors or hallucinations where the model might produce incorrect or misleading information."
      ],
      "metadata": {
        "id": "4WiuPXMtcXry"
      }
    },
    {
      "cell_type": "markdown",
      "source": [
        "## 1. Setup"
      ],
      "metadata": {
        "id": "UrBXU8E5cuoc"
      }
    },
    {
      "cell_type": "code",
      "source": [
        "!pip install langchain_community tiktoken langchain-openai langchainhub chromadb langchain langgraph tavily-python"
      ],
      "metadata": {
        "id": "cAZplh9VcieD"
      },
      "execution_count": null,
      "outputs": []
    },
    {
      "cell_type": "code",
      "source": [
        "import getpass\n",
        "import os\n",
        "\n",
        "\n",
        "def _set_env(var: str):\n",
        "    if not os.environ.get(var):\n",
        "        os.environ[var] = getpass.getpass(f\"{var}: \")\n",
        "\n",
        "_set_env(\"OPENAI_API_KEY\")\n",
        "_set_env(\"TAVILY_API_KEY\")"
      ],
      "metadata": {
        "colab": {
          "base_uri": "https://localhost:8080/"
        },
        "id": "FRKf3HTsciam",
        "outputId": "4373b1f8-bb1b-44a5-86e6-0446370b5247"
      },
      "execution_count": 35,
      "outputs": [
        {
          "name": "stdout",
          "output_type": "stream",
          "text": [
            "OPENAI_API_KEY: ··········\n"
          ]
        }
      ]
    },
    {
      "cell_type": "markdown",
      "source": [
        "## 2. Setup proxy Knowledge Base"
      ],
      "metadata": {
        "id": "YZPKjleBciQu"
      }
    },
    {
      "cell_type": "code",
      "source": [
        "from langchain_text_splitters import RecursiveCharacterTextSplitter\n",
        "from langchain_community.document_loaders import WebBaseLoader\n",
        "from langchain_community.vectorstores import Chroma\n",
        "from langchain_openai import OpenAIEmbeddings\n",
        "\n",
        "urls = [\n",
        "    \"https://medium.com/@aakuskar.980/understanding-lstm-networks-a-simplified-explanation-3659be6b4923?source=user_profile_page---------0-------------5c9ca647dacc----------------------\",\n",
        "    \"https://medium.com/@aakuskar.980/what-is-the-model-context-protocol-mcp-f6e287d62adc?source=user_profile_page---------2-------------5c9ca647dacc----------------------\",\n",
        "    \"https://medium.com/@aakuskar.980/ai-agents-the-invisible-workforce-revolutionizing-our-world-a2905367f725?source=user_profile_page---------3-------------5c9ca647dacc----------------------\",\n",
        "]\n",
        "\n",
        "docs = [WebBaseLoader(url).load() for url in urls]\n",
        "docs_list = [item for sublist in docs for item in sublist]\n",
        "text_splitter = RecursiveCharacterTextSplitter.from_tiktoken_encoder(\n",
        "    chunk_size=250, chunk_overlap=0)\n",
        "doc_splits = text_splitter.split_documents(docs_list)\n",
        "\n",
        "\n",
        "vectorstore = Chroma.from_documents(\n",
        "    documents=doc_splits,\n",
        "    embedding=OpenAIEmbeddings(),\n",
        "    collection_name=\"proxy_knowledge_base\",\n",
        ")\n",
        "\n",
        "retriever = vectorstore.as_retriever()\n"
      ],
      "metadata": {
        "id": "AlGDCQ8jciJm"
      },
      "execution_count": 9,
      "outputs": []
    },
    {
      "cell_type": "markdown",
      "source": [
        "## 3. Set up a RAG chain"
      ],
      "metadata": {
        "id": "0pw7zo_qciGM"
      }
    },
    {
      "cell_type": "code",
      "source": [
        "from langchain import hub\n",
        "from langchain_core.output_parsers import StrOutputParser\n",
        "from langchain_openai import ChatOpenAI\n",
        "\n",
        "rag_prompt = hub.pull(\"rlm/rag-prompt\")\n",
        "\n",
        "rag_llm = ChatOpenAI(model_name=\"gpt-4o-mini\", temperature=0)\n",
        "\n",
        "rag_chain = rag_prompt | rag_llm | StrOutputParser()\n",
        "\n",
        "print(rag_prompt.messages[0].prompt.template)"
      ],
      "metadata": {
        "colab": {
          "base_uri": "https://localhost:8080/"
        },
        "id": "EJQ7QKPDciDx",
        "outputId": "8a9ba50c-f79a-4dd9-e96f-c38e917c3106"
      },
      "execution_count": 11,
      "outputs": [
        {
          "output_type": "stream",
          "name": "stdout",
          "text": [
            "You are an assistant for question-answering tasks. Use the following pieces of retrieved context to answer the question. If you don't know the answer, just say that you don't know. Use three sentences maximum and keep the answer concise.\n",
            "Question: {question} \n",
            "Context: {context} \n",
            "Answer:\n"
          ]
        },
        {
          "output_type": "stream",
          "name": "stderr",
          "text": [
            "/usr/local/lib/python3.11/dist-packages/langsmith/client.py:272: LangSmithMissingAPIKeyWarning: API key must be provided when using hosted LangSmith API\n",
            "  warnings.warn(\n"
          ]
        }
      ]
    },
    {
      "cell_type": "code",
      "source": [
        "# Define the question you want to ask\n",
        "question = \"What is LSTM?\"\n",
        "\n",
        "# Now invoke the RAG chain with the defined question\n",
        "generation = rag_chain.invoke({\"context\": docs, \"question\": question})\n",
        "print(\"Question: %s\" % question)\n",
        "print(\"----\")\n",
        "print(\"Documents:\\\\n\")\n",
        "print('\\\\n\\\\n'.join(['- %s' % x.page_content for sublist in docs for x in sublist]))\n",
        "print(\"----\")\n",
        "print(\"Final answer: %s\" % generation)"
      ],
      "metadata": {
        "colab": {
          "base_uri": "https://localhost:8080/"
        },
        "id": "HKzHgmbDciBY",
        "outputId": "10aaa6a7-d798-4959-bc6e-dd4ef6afc679"
      },
      "execution_count": 14,
      "outputs": [
        {
          "output_type": "stream",
          "name": "stdout",
          "text": [
            "Question: What is LSTM?\n",
            "----\n",
            "Documents:\\n\n",
            "- Understanding LSTM Networks: A Simplified Explanation | by Aditya Ak | MediumOpen in appSign upSign inWriteSign upSign inUnderstanding LSTM Networks: A Simplified ExplanationAditya AkFollow12 min read·Mar 3, 2025--ListenShareImagine you’re watching a movie. As the plot unfolds, you don’t forget what happened at the beginning, right? You remember the characters, their relationships, especially the actress, and how all of this helps you predict what will happen next. For example, if the hero loses their sword in the first scene, you know when they’ll pick it up later because your brain connects the dots!Now, think of a basic neural network as someone who watches the same movie but forgets everything after each scene. If you ask them, “Why is the hero fighting the villain?” they might say, “I don’t know, I forgot what happened earlier!” This is because basic neural networks process information step by step without retaining past information. They start from scratch every time, making it hard to understand things that depend on context — like a movie plot or even a sentence in an essay.The Problem: Lack of Memory in Basic Neural NetworksHumans don’t start thinking from scratch all the time. As you read this essay, you’re connecting each new idea to previous ones, drawing on your memory of past experiences or information. But traditional neural networks don’t have this capability. Imagine trying to track events in a movie, but each new scene makes you forget the ones that came before. This is where LSTM (Long Short-Term Memory) comes in.LSTM: A Smarter Memory for Neural NetworksThink of LSTM as the super-smart version of that dumb friend. LSTM networks are designed to remember important information from the past and use it to understand the present. It’s like giving your friend a notebook to jot down key points during the movie, so they can refer to it later.So, what makes LSTM so powerful? It’s simple: LSTMs are neural networks with a good memory! They’re great at remembering what’s important from long sequences of data, like understanding language, predicting the next scene in a movie, or even composing music.Before jumping into LSTMs lets first understand little about RNNs .Recurrent Neural Networks (RNNs): The First Step Toward MemoryAn RNN is a type of neural network designed to handle sequences of data — like sentences, movie scenes, or even stock prices over time. The key idea behind RNNs is that they have a loop in them, allowing information to flow from one step to the next, similar to how our memory works.However, while RNNs were a step forward in understanding sequential data, they have some important limitations. Let’s talk about these challenges and why LSTMs were introduced.Simple RNNIn the above diagram, a chunk of neural network, A , looks at some input xt and outputs a value ht. A loop allows information to be passed from one step of the network to the next.If LSTMs are the super-smart friends with great memory, RNNs are their simpler cousins who try to remember things but aren’t as good at it. Still, they’re pretty cool and important to understand!In the last few years, RNN are successfully applied to a variety of tasks like speech recognition, language modeling, translation, image captioning but RNN have some dependencies, can you guess what the problem with RNNs is and why LSTM were discovered lets see.The Problem with RNNs: Long-Term DependenciesRNNs excel at processing short sequences of data. For example, understanding the last few words of a sentence or a couple of scenes in a movie. But when it comes to longer sequences (like a full-length movie or a long essay), RNNs start to forget important details from earlier on. This issue is called the Short-Term Memory Problem.But that’s not all, RNNs also suffer from the Vanishing Gradient Problem. This is a technical issue where the network’s memory fades over time, like a whisper getting weaker as it passes through a long line of people. When this happens, important information is lost, making RNNs struggle with long sequences.Sometimes we only need to look at some of the past information for the ongoing task ,which is quiet simple even the humans could remember past few things easily but they find it difficult to remember the long memory actions as the gap grows we are unable to connect the dots, similarly RNNs are unable to learn to connect the information, RNNs are great at handling short sequences, they struggle with longer ones this problem is Short-Term Memory, RNNs are like someone who can only remember the last few things they heard. If the sequence gets too long (like a whole book or a long movie), they start to forget the important stuff from the beginning.This is the main reason LSTMs were introduced, they don’t have this problem!LSTMs: The Solution to RNN’s Memory ProblemLSTMs were introduced by Hochreiter & Schmidhuber in 1997 to address the problems that RNNs face. If RNNs are like someone with a poor memory, LSTMs are like an organized librarian who never forgets important details. They can remember information for much longer and make better decisions about what to keep and what to discard.LSTMs were explicitly designed to solve the long-term dependency problem, and remembering information over long periods is their default behavior, not something they have to learn!RNN modelLSTMs also have this chain like structure, but the repeating module has a different structure. Instead of having a single neural network layer, there are four, interacting in a very special way.LSTM modelHow LSTMs Work: The Core IdeaLSTMs (Long Short-Term Memory networks) can be thought of like a librarian managing a library of information. The three gates in an LSTM control how the information is managed and flow through the network, similar to how a librarian would decide what to keep, discard, or access at any given time. So we can say at the heart of LSTMs is a cell state, which is like a conveyor belt carrying information from one time step to the next. The cell state helps the network retain long-term dependencies, which is essential for tasks like language modeling, speech recognition, and time-series prediction.LSTMs manage the flow of information through the network using gates, similar to how a librarian decides which books to keep, discard, or refer to. Let’s break it down:1. Forget Gate: Deciding What to Let GoThe forget gate looks at the previous output and the current input and decides what information to forget. If something is outdated or irrelevant, it’s discarded. This is like the librarian reviewing old books and deciding which ones no longer need to be stored.2. Input Gate: Deciding What to KeepThe input gate decides what new information to store in the memory. The librarian assesses incoming books and chooses which ones are worth keeping. This gate works with both a sigmoid function (which decides which information to add) and a tanh function (which creates candidate values for the new information).3. Output Gate: Deciding What to ShareThe output gate determines what information should be passed on to the next time step. It decides which parts of the memory are relevant and should be shared, much like the librarian checking out books to others.In this way, the LSTM helps the model maintain and modify its “memory” over time, allowing it to remember important information while forgetting irrelevant detailsA Detailed Look at the LSTM ProcessNow that we know how the gates work, let’s walk through the entire process step by step:Forget Gate: Decides what to forget from the previous cell state.Input Gate: Decides what new information to add.Cell State Update: The forget and input gates work together to update the cell state.Output Gate: Decides what part of the memory should be passed to the next time step.Long Short-Term Memory (LSTM) networks have become a fundamental architecture in the field of deep learning, especially for tasks involving sequential data, like natural language processing or time series prediction. What sets LSTMs apart from traditional neural networks and other types of recurrent neural networks (RNNs) is their ability to capture long-term dependencies.One of the core features that make LSTMs so effective are the gates. Gates control the flow of information at each time step, deciding what to remember, what to forget, and what to output. Essentially, gates act as filters, allowing only the necessary information to pass through the network at each stage.Think of the cell state as a conveyor belt running through the entire network. This conveyor belt carries information from one time step to the next, the cell state allows information to flow relatively unchanged across time steps. This helps retain long-term dependencies in the data.Gates are a way to optionally let information throughGates in an LSTM control the flow of information at each time step. They allow the network to decide what to remember, what to forget, and what to output.A gate is essentially a mechanism that acts like a filter. It decides whether or not certain information should pass through based on the current input and the previous state.How Gates WorkEach gate in an LSTM consists of two key elements:Sigmoid Activation Function:The sigmoid function takes the current input and previous output, passing them through a neural network layer. It produces values between 0 and 1, which determine how much information should be allowed through. A value of 0 means “don’t let any information through,” while a value of 1 means “let all information through.”2. Pointwise Multiplication:After applying the sigmoid function, the output is combined with the relevant data (such as the cell state or input) through pointwise multiplication. This operation effectively scales the information allowed through, based on the sigmoid’s output.A Step-by-Step Walkthrough of the LSTM ProcessLet’s break down how information flows through an LSTM network.Forget Gate:The forget gate is the first step in determining what information to discard from the cell state. It takes in the previous hidden state ht−1​ and the current input xt​, passing them through a sigmoid function. The output is a vector with values between 0 and 1, indicating which parts of the previous cell state Ct−1 should be remembered and which should be forgotten. A value of 1 means “keep it,” while 0 means “forget it.”The output of the forget gate is a vector ft​ (with values between 0 and 1 for each element of the previous cell state Ct−1). This vector is then multiplied element-wise by the previous cell state Ct−1 to determine which parts of the memory should be kept and which should be discarded.Ct′​ = ft​∗Ct−1​ (Ct′​ is the modified cell state after the forget gate has done its job.)2. Input Gate:After deciding what to forget, the next step is to determine what new information to store in the cell state. This is done by the input gate, which is composed of two parts: the input gate layer and the candidate cell state.Input Gate Layer: The input gate layer uses a sigmoid function on ht−1 and xt to decide how much new information should be added to the cell state.The output of the sigmoid function is a vector with values between 0 and 1, just like the forget gate. This tells us how much of the new information should be added to the cell state.— A value of 0 means “don’t add anything here” (we won’t update this part of the cell state).— A value of 1 means “fully add new information here” (we’ll update this part of the cell state fully).2. Candidate Cell State (tanh Layer):The next part is generating candidate values, which are potential updates to the cell state. The network needs to decide what new information should be added to the state, so it creates a candidate vector using the tanh activation function.The C~t​ vector represents new information (e.g., the “gender of the new subject” in your language model example). This candidate vector is created by passing both ht−1 and xt​ through a tanh function, which produces values between -1 and 1. This ensures that the new information is appropriately scaled.3. Combining the Input Gate and Candidate Values:Now, we combine the outputs of the input gate (which decides how much new information we should add) and the candidate values (which represent the new information).The input gate vector it​ tells the model how much of the new information in C~t​ should be added to the current cell state. We multiply the input gate output by the candidate values to get the final update for the cell state.ft​ × Ct−1​ is the part of the cell state that we decided to retain from the previous time step.it × C~t ​ is the new information we’ve decided to incorporate.3. Output Gate:The final step is to determine what information should be output from the cell state. This is done by the output gate. First, the output gate uses a sigmoid function on ht−1 and xt​ to decide which parts of the cell state should be output. Then, the cell state is passed through a tanh function to push the values to be between -1 and 1.Finally, the output of the output gate is multiplied by the tanh-transformed cell state to produce the output at the current time step:ht=ot×tanh⁡(Ct)where ot​ is the output gate’s decision of what information to output.Variants of LSTMOver time, several variants of LSTMs have been developed to address specific needs in different applications:Gated Recurrent Unit (GRU):The GRU is a simplified version of the LSTM. It combines the forget and input gates into a single gate called the “update gate.” This reduces the complexity of the model while still allowing it to perform well on tasks with less complex dependencies. GRUs also combine the cell state and hidden state into one vector, streamlining the architecture.2. Bidirectional LSTM (BiLSTM):A Bidirectional LSTM processes the input sequence in both forward and backward directions. This allows the model to capture information from both past and future contexts at each time step. Two LSTMs are trained in parallel — one processes the sequence from left to right, while the other processes it from right to left. The outputs of these two LSTMs are then combined to form the final output at each time step.ConclusionLSTMs (Long Short-Term Memory networks) are a type of RNN (Recurrent Neural Network) that work really well for many tasks, like language processing. Even though LSTMs look complicated when written as equations, going through them step by step can make them easier to understand. They were a big improvement over earlier RNNs and have made a huge impact on what we can do with these networks.However, researchers think there might be an even bigger step forward coming, and that step could be attention. With attention, an RNN can pick which pieces of information to focus on at each step, rather than looking at all the information equally(transformers). For example, in image captioning, the RNN could look at different parts of an image as it generates each word of the caption. This idea of using attention has already led to some exciting results and is expected to bring even more breakthroughs.Besides attention, there are other promising areas in RNN research, such as Grid LSTMs and using RNNs in generative models. These areas are showing a lot of potential, and researchers are excited about what the future holds for RNNs and deep learning in general!Coming Up Next: The Rise of TransformersWhile LSTMs have been a staple in sequential data modeling, a new architecture has rapidly gained popularity in recent years — Transformers. In the next section, we’ll explore how Transformers work, why they outperform LSTMs in many modern NLP tasks, and their groundbreaking role in models like GPT and BERT. We’ll also discuss the key principles behind attention mechanisms and how they revolutionized the way we process sequences. Stay tuned to learn more!Lstm NetworksDeep LearningRnnWorking----FollowWritten by Aditya Ak0 followers·5 followingLeveraging data science and machine learning to solve complex problems and make life better.FollowNo responses yetHelpStatusAboutCareersPressBlogPrivacyRulesTermsText to speech\n",
            "\n",
            "\n",
            "\n",
            "\n",
            "\n",
            "\n",
            "\n",
            "\n",
            "\n",
            "\n",
            "\n",
            "\n",
            "\n",
            "\n",
            "\n",
            "\n",
            "\n",
            "\n",
            "\n",
            "\n",
            "\n",
            "\n",
            "\n",
            "\n",
            "\n",
            "\n",
            "\n",
            "\n",
            "\n",
            "\n",
            "\n",
            "\n",
            "\n",
            "\n",
            "\n",
            "\\n\\n- What is the Model Context Protocol (MCP)? | by Aditya Ak | Mar, 2025 | MediumOpen in appSign upSign inWriteSign upSign inWhat is the Model Context Protocol (MCP)?Aditya AkFollow5 min read·Mar 24, 2025--ListenShareIn the rapidly evolving world of AI, the Model Context Protocol (MCP) is gaining attention for a good reason. It acts as a communication bridge between AI models and external systems, enabling AI assistants to directly interact with various services. This creates new possibilities for AI applications to access real-time data, interact with external systems, and use specialized tools, all through a standardized interface.Think of MCP as the USB-C for AI — a universal connector that allows AI models to seamlessly integrate with different tools and data sources.Model Context Protocol serves as a critical communication bridge between AI models and external systems, enabling AI assistants to interact directly with various services through a standardized interface. This protocol was designed to address the inherent limitations of standalone AI models by providing them with pathways to access real-time data, perform actions in external systems, and leverage specialized tools beyond their built-in capabilities.The fundamental architecture of MCP consists of client-server communication where the AI model (client) can send requests to specialized servers that handle specific service integrations, process these requests, and return formatted results that the AI can incorporate into its responses. This design pattern enables AI systems to maintain their core reasoning capabilities while extending their functional reach into practical applications that require interaction with external systems and databasesMCP has the potential to function as a universal interface, think of it as the virtual / software version of USB-C for AI. Enabling seamless, secure and scalable data exchange between LLMs/AI Agents and external resources. MCP uses a client-server architecture where MCP hosts (AI applications) communicate with MCP servers (data/tool providers).Developers can use MCP to build reusable, modular connectors, with pre-built servers available for popular platforms, creating a community-driven ecosystem. MCP’s open-source nature encourages innovation, allowing developers to extend its capabilities while maintaining security through features like granular permissions. Ultimately, MCP aims to transform AI Agents from isolated chatbots into context-aware, interoperable systems deeply integrated into digital environments. Key elements from the Model Context Protocol:Standardization: MCP provides a standardized way for language models to interact with tools, promoting interoperability.Communication Methods: Supports multiple communication methods, including STDIO and SSE, for flexibility in tool integration.Tool Integration: Enables language models to use external tools, enhancing their functionality and applicability.How Does MCP Work?MCP operates on a client-server architecture:MCP Hosts: These are the AI applications or interfaces, such as IDEs, or AI tools, that seek to access data through MCP. They initiate requests for data or actions.MCP Clients: These are protocol clients that maintain a one-to-one connection with MCP servers, acting as intermediaries to forward requests and responses.MCP Servers: Lightweight programs that expose specific capabilities through the MCP, connecting to local or remote data sources. Examples include servers for file systems, databases, or APIs, each advertising their capabilities for hosts to utilize.Local Data Sources: These include the computer’s files, databases, and services that MCP servers can securely access, such as reading local documents or querying SQLite databases.Remote Services: External systems available over the internet, such as APIs, that MCP servers can connect to, enabling AI to interact with cloud-based tools or services.Use Case: Integrating Claude AI with MCPOne of the coolest aspects of MCP is how it can be combined with existing AI tools, like Claude from Anthropic, to create more powerful applications. Let’s look at a simple example of integrating MCP with Claude AI using Chainlit and the Claude API.ImplementationStep 1: Loading MCP ToolsFirst, we need to ensure all the MCP tools are loaded into the Chainlit session. This step allows the AI to access external tools for its tasks.First thing we need to ensure is our MCP tools are listed and loaded to our chainlit session. As you install any MCP server , you need to ensure that all the tools of those associated MCP servers are added to your session..on_chat_start async def start_chat():    client = ChatClient()    cl.user_session.set(\"messages\", [])    cl.user_session.set(\"system_prompt\", SYSTEM_PROMPT)@cl.on_mcp_connect async def on_mcp(connection, session: ClientSession):    result = await session.list_tools()    tools = [{\"name\": t.name, \"description\": t.description, \"parameters\": t.inputSchema} for t in result.tools]    mcp_tools = cl.user_session.get(\"mcp_tools\", {})    mcp_tools[connection.name] = tools    cl.user_session.set(\"mcp_tools\", mcp_tools)Step 2: Flattening ToolsNext, we flatten the list of tools, which will be passed to Claude AI during the chat session. In this case for each message we pass the loaded MCP server session tools into chat session after flattening it.def flatten(xss):    return [x for xs in xss for x in xs]@cl.on_message async def on_message(message: cl.Message):    mcp_tools = cl.user_session.get(\"mcp_tools\", {})    tools = flatten([tools for _, tools in mcp_tools.items()])    tools = [{\"type\": \"function\", \"function\": tool} for tool in tools]    client = ChatClient()    client.messages = cl.user_session.get(\"messages\", [])    msg = cl.Message(content=\"\")    async for text in client.generate_response(human_input=message.content, tools=tools):        await msg.stream_token(text)    cl.user_session.set(\"messages\", client.messages)Step 3: Calling the ToolHere’s how you can call an MCP tool and use it to fetch responses during the conversation, basically call the MCP session to execute the tool..step(type=\"tool\") async def call_tool(mcp_name, function_name, function_args):    try:        print(f\"Function Name: {function_name} Function Args: {function_args}\")        mcp_session, _ = cl.context.session.mcp_sessions.get(mcp_name)        func_response = await mcp_session.call_tool(function_name, function_args)    except Exception as e:        traceback.print_exc()        func_response = json.dumps({\"error\": str(e)})    return str(func_response.content)Step 4: Generate Responses Using ToolsNow that we’ve integrated MCP tools, the Claude AI assistant can call these tools, process responses, and continue the conversation.async def generate_response(self, human_input, tools, temperature=0):    print(f\"human_input: {human_input}\")    self.messages.append({\"role\": \"user\", \"content\": human_input})    response_stream = await self.client.chat.completions.create(        model=self.deployment_name,        messages=self.messages,        tools=tools,        parallel_tool_calls=False,        stream=True,        temperature=temperature    )    try:        async for token in self.process_response_stream(response_stream, tools, temperature):            yield token    except GeneratorExit:        returnConclusion: The Future of AI with MCPThe Model Context Protocol (MCP) is a game-changer in AI integration. By providing a universal interface, it allows AI models to break free from their limitations and interact with external tools and data. With its flexible, secure, and scalable design, MCP makes it easier for developers to build context-aware, powerful AI systems.With the Claude AI model now enhanced by MCP, you can build smarter, more interactive AI applications that leverage both real-time data and specialized external tools.Ready to explore? Check out the full demo and start integrating MCP with Claude in your AI projects today!Thank You And keep Exploring!----FollowWritten by Aditya Ak0 followers·5 followingLeveraging data science and machine learning to solve complex problems and make life better.FollowNo responses yetHelpStatusAboutCareersPressBlogPrivacyRulesTermsText to speech\n",
            "\n",
            "\n",
            "\n",
            "\n",
            "\n",
            "\n",
            "\n",
            "\n",
            "\n",
            "\n",
            "\n",
            "\n",
            "\n",
            "\n",
            "\n",
            "\n",
            "\n",
            "\n",
            "\n",
            "\n",
            "\n",
            "\n",
            "\n",
            "\n",
            "\n",
            "\n",
            "\n",
            "\n",
            "\n",
            "\n",
            "\n",
            "\n",
            "\n",
            "\n",
            "\n",
            "\\n\\n- AI Agents: The Invisible Workforce Revolutionizing Our World | by Aditya Ak | Mar, 2025 | MediumOpen in appSign upSign inWriteSign upSign inSuper smart multi-agent JARVISAI Agents: The Invisible Workforce Revolutionizing Our WorldAditya AkFollow7 min read·Mar 12, 2025--ListenShareArtificial Intelligence (AI) has come a long way, moving from science fiction to a key part of our everyday lives. One of the most exciting developments in AI is the rise of AI agents. These smart systems are transforming industries, boosting productivity, and helping create a smarter future. But what exactly are AI agents, and how are they changing the world of technology?It’s fun to think about! Many of the cool technologies we see in movies, like flying cars, super-smart robots, and virtual reality worlds, seem like pure fantasy, but some of them are actually becoming more possible thanks to advancements in science and tech. Don’t forget about J.A.R.V.I.S. the super smart multi-agentic system we seen in Iron Man , now would it be really possible to create a technology like that. What I think is It might take some time, but we’re heading in the direction where J.A.R.V.I.S.-like assistants could be a reality! The future of AI holds endless possibilities, and it’s not too far-fetched to think we might get close to having a helpful AI companion. What other movie tech would you like to see become reality?Also, It’s exciting to think about what the future holds but not all movie tech is practical or possible, a lot of it is sparking real-world innovation? Let’s dive in and see how they’re making an impact and what the future might look like!Understanding AI AgentsAI agents are like digital problem-solvers with the ability to make decisions and act on their own, all aimed at completing a task or goal. They can be as simple as chatbots answering your questions or as advanced as systems that help companies streamline operations, predict trends, or even control self-driving cars. What sets them apart is their ability to learn from their experiences, meaning they get better the more they interact with their environment.Here’s how they work:Perception: AI agents use sensors or data input (like cameras, microphones, or software logs) to understand what’s happening around them.Processing Information: Once they gather data, they analyze it using algorithms — think of it like their brain figuring out the best action to take.Taking Action: Based on their analysis, AI agents perform tasks like making recommendations, answering questions, or controlling systems. Over time, they adjust their strategies using machine learning to improve their performance.Technologies like Natural Language Processing (NLP) help them understand human language (like how Siri or Alexa understand what you say), deep learning allows them to process vast amounts of data, and reinforcement learning helps them make decisions based on rewards (just like learning through trial and error).As AI agents evolve, their potential grows, impacting everything from customer service to healthcare, manufacturing, and even entertainment. It’s fascinating to think about how they’ll continue to shape our world!The Transformation of the Tech IndustryAI agents are driving an unprecedented transformation in the tech industry, affecting everything from software development to customer service. Some of the key areas where AI agents are making an impact include:1. Automation and EfficiencyAI agents automate repetitive tasks, allowing developers, IT professionals, and businesses to focus on high-value work. They optimize workflows in software engineering, automate debugging, and even assist in writing and testing code, significantly reducing development time. For instance, companies like Google and Microsoft use AI-powered tools like GitHub Copilot to aid developers, accelerating coding efficiency and innovation.2. Enhanced Customer ExperienceVirtual assistants and AI-powered chatbots provide 24/7 support, improving customer interactions with personalized recommendations and real-time solutions. Imagine a scenario where an AI assistant remembers a customer’s past purchases and suggests relevant items — this is already happening with Amazon Alexa and Google Assistant. These systems continue to evolve, offering seamless experiences across multiple platforms.3. Data-Driven Decision MakingAI agents analyze vast amounts of data in real-time, enabling businesses to make informed decisions faster. Predictive analytics, powered by AI, is transforming industries like finance, healthcare, and retail, allowing companies to anticipate market trends and optimize strategies. Take Netflix, for example — its recommendation engine, powered by AI, keeps users engaged by curating personalized content based on viewing habits.4. Cybersecurity and Threat DetectionAI-driven security agents monitor network activity, detect anomalies, and prevent cyber threats before they escalate. With the increasing complexity of cyberattacks, AI is becoming an essential ally in securing digital infrastructures. Darktrace, for example, is an AI cybersecurity company that detects cyber threats by learning an organization’s normal behavior and flagging unusual activities in real-time.5. AI in Software DevelopmentAI agents are reshaping how software is developed, maintained, and improved. Tools like GitHub Copilot and OpenAI Codex assist developers by suggesting code snippets, reducing human error, and accelerating the development cycle. These AI agents are also being used in bug detection and software testing, ensuring smoother product rollouts.Real-World AI Agents Making an ImpactAI agents are already playing a transformative role in various industries. Some of the most impactful AI agents in the market and also some which i personally use on daily basis include:ChatGPT (OpenAI): Revolutionizing content creation, customer support, and programming assistance with conversational AI.Tesla Autopilot: An advanced driver-assistance AI agent that enhances road safety and drives the future of autonomous vehicles.Google Assistant & Amazon Alexa: Enhancing user experiences with voice-based AI for smart home automation, searches, and daily tasks.IBM Watson: Transforming healthcare and business intelligence by analyzing vast data sets and providing insights.DeepMind AlphaFold: Advancing scientific research by predicting protein structures, accelerating drug discovery and medical breakthroughs.Darktrace: A cybersecurity AI agent that detects and responds to cyber threats in real-time, safeguarding businesses from sophisticated attacks.UiPath: Leading robotic process automation (RPA) with AI-driven software bots that streamline business operations.The Future of AI AgentsLooking ahead, AI agents are poised to become even more sophisticated, enhancing their ability to understand and interact with humans naturally. Some of the emerging trends and future possibilities include:Hyper-Personalization: AI agents will get better at tailoring experiences to individual needs, making everything from online shopping to healthcare more personal. Imagine an AI assistant that can help your doctor find the perfect treatment plan based on your medical history, lifestyle, and genetic data, or a digital marketing campaign that feels uniquely designed just for you.Human-AI Collaboration:Instead of replacing jobs, AI agents will enhance human abilities. In fields like architecture, design, or even research, AI could serve as a powerful collaborator. Think about an AI-powered assistant helping an architect design more efficient, sustainable buildings by predicting potential design flaws or suggesting creative alternatives.Advanced Reasoning: AI agents will evolve to go beyond processing data to performing advanced reasoning and even showing emotional intelligence. Imagine a virtual assistant that can not only provide factual answers but also recognize when you’re frustrated and adjust its tone or approach accordingly. These agents will become smarter and more human-like in their interactions.Decentralized AI: The integration of AI with blockchain and decentralized systems will create more secure and transparent AI-driven ecosystems.General AI (AGI): Future AI systems may move beyond narrow AI applications to exhibit human-like intelligence, enabling problem-solving and adaptability across a wide range of fields. Companies like DeepMind are already exploring AGI by training models to learn from experience.AI in Space Exploration: AI-driven autonomous systems will play a crucial role in deep space missions, planetary exploration, and optimizing spacecraft operations. NASA already employs AI agents to analyze satellite images and detect climate change patterns.AI-Powered Creativity: AI will contribute to art, music, and storytelling, generating new forms of creative expression in collaboration with humans. Tools like DALL·E and Runway ML are redefining digital artistry, producing AI-generated music and paintings that rival human creativity.AI and Quantum Computing: The combination of AI with quantum computing could unlock unprecedented computational power, solving complex problems in materials science, cryptography, and medicine. Imagine AI agents predicting drug effectiveness in seconds rather than years.As AI continues to evolve, it’s clear that the future holds incredible possibilities. Whether it’s changing the way we work, interact with technology, or explore the universe, AI agents will be a driving force in shaping tomorrow’s world. The best part? We’re just getting started!The Ethical Challenges of AI AgentsAI agents are undoubtedly shaping the future in exciting ways, but with these advancements come important ethical challenges that we can’t overlook. As AI becomes more integrated into our lives, it’s crucial to consider the societal implications and address these issues responsibly. Here are some of the main ethical challenges we’ll need to navigate:Bias in AI: AI agents learn from data, and if that data contains biases, AI can reinforce existing prejudices. Ensuring fairness and inclusivity in AI algorithms is critical.Privacy Concerns: AI systems collect and analyze massive amounts of personal data, raising concerns about surveillance and misuse.Job Displacement: Automation may replace certain jobs, requiring workforce adaptation and reskilling.Security Risks: As AI becomes more advanced, malicious actors can exploit it for cybercrimes, necessitating strong AI governance frameworks.The potential of AI agents is incredible, but they come with responsibilities. As we advance into a future where AI plays a central role, it’s important to address these ethical challenges thoughtfully, ensuring that AI is used for the benefit of all, while protecting against unintended consequences. Balancing innovation with ethics will be key to creating a fairer, safer, and more equitable world powered by AI.Final ThoughtsAI agents are much more than a passing trend — they are at the heart of a new era where intelligent automation and human-machine collaboration are changing the game. From helping with customer service to transforming healthcare, and even assisting in the exploration of distant planets, AI agents are making a profound impact on how we live and work.As the tech industry evolves, AI agents will continue to lead the way, driving innovation, enhancing productivity, and reshaping how we interact with technology. The future is undeniably AI-powered, and the exciting part is that it’s already happening.With AI advancing so rapidly, one thing is certain: the way humans and AI agents work together will define the future of many industries. This partnership has the potential to unlock new levels of creativity, efficiency, and innovation. But how we guide and control this powerful technology will determine whether it becomes a force for good or a disruptive challenge.The power is in our hands to shape the future. Let’s make the most of it and ensure AI continues to serve humanity’s best interests, paving the way for a brighter, smarter tomorrow.AIAgentsArtifiFutureRisk----FollowWritten by Aditya Ak0 followers·5 followingLeveraging data science and machine learning to solve complex problems and make life better.FollowNo responses yetHelpStatusAboutCareersPressBlogPrivacyRulesTermsText to speech\n",
            "\n",
            "\n",
            "\n",
            "\n",
            "\n",
            "\n",
            "\n",
            "\n",
            "\n",
            "\n",
            "\n",
            "\n",
            "\n",
            "\n",
            "\n",
            "\n",
            "\n",
            "\n",
            "\n",
            "\n",
            "\n",
            "\n",
            "\n",
            "\n",
            "\n",
            "\n",
            "\n",
            "\n",
            "\n",
            "\n",
            "\n",
            "\n",
            "\n",
            "\n",
            "\n",
            "\n",
            "----\n",
            "Final answer: LSTM (Long Short-Term Memory) is a type of neural network designed to handle sequences of data. It has a good memory that allows it to remember important information from the past and use it to understand the present, making it great at remembering what's important from long sequences of data and capturing long-term dependencies.\n"
          ]
        }
      ]
    },
    {
      "cell_type": "markdown",
      "source": [
        "## 4. Set up a retrieval evaluator\n",
        "To improve the accuracy of the generated content, we set up a retrieval evaluator. This tool checks how relevant each retrieved document is to make sure only the most useful information is used."
      ],
      "metadata": {
        "id": "Udbv3IH0ch8n"
      }
    },
    {
      "cell_type": "code",
      "source": [
        "from langchain_core.prompts import ChatPromptTemplate\n",
        "from langchain_core.pydantic_v1 import BaseModel, Field\n",
        "\n",
        "class RetrievalEvaluator(BaseModel):\n",
        "    \"\"\"Classify retrieved documents based on how relevant it is to the user's question.\"\"\"\n",
        "    binary_score: str = Field(\n",
        "        description=\"Documents are relevant to the question, 'yes' or 'no'\"\n",
        "    )\n",
        "\n",
        "\n",
        "# LLM with function call\n",
        "retrieval_evaluator_llm = ChatOpenAI(model=\"gpt-4o-mini\", temperature=0)\n",
        "structured_llm_evaluator = retrieval_evaluator_llm.with_structured_output(RetrievalEvaluator)\n",
        "\n",
        "\n",
        "# Prompt\n",
        "system = \"\"\"You are a document retrieval evaluator that's responsible for checking the relevancy of a retrieved document to the user's question. \\\\n\n",
        "    If the document contains keyword(s) or semantic meaning related to the question, grade it as relevant. \\\\n\n",
        "    Output a binary score 'yes' or 'no' to indicate whether the document is relevant to the question.\"\"\"\n",
        "\n",
        "retrieval_evaluator_prompt = ChatPromptTemplate.from_messages(\n",
        "    [\n",
        "        (\"system\", system),\n",
        "        (\"human\", \"Retrieved document: \\\\n\\\\n {document} \\\\n\\\\n User question: {question}\"),\n",
        "    ]\n",
        ")\n",
        "retrieval_grader = retrieval_evaluator_prompt | structured_llm_evaluator\n"
      ],
      "metadata": {
        "id": "jk7UHoX6ch6R"
      },
      "execution_count": 19,
      "outputs": []
    },
    {
      "cell_type": "markdown",
      "source": [
        "## 5. Setup question rewrite"
      ],
      "metadata": {
        "id": "mDwEM5iUch35"
      }
    },
    {
      "cell_type": "code",
      "source": [
        "question_rewriter_llm = ChatOpenAI(model=\"gpt-4o-mini\", temperature=0)\n",
        "\n",
        "# Prompt\n",
        "system = \"\"\"You are a question re-writer that converts an input question to a better version that is optimized \\\\n\n",
        "     for web search. Look at the input and try to reason about the underlying semantic intent / meaning.\"\"\"\n",
        "\n",
        "re_write_prompt = ChatPromptTemplate.from_messages(\n",
        "    [\n",
        "        (\"system\", system),\n",
        "        (\n",
        "            \"human\",\n",
        "            \"Here is the initial question: \\\\n\\\\n {question} \\\\n Formulate an improved question.\",\n",
        "        ),\n",
        "    ]\n",
        ")\n",
        "question_rewriter = re_write_prompt | question_rewriter_llm | StrOutputParser()"
      ],
      "metadata": {
        "id": "IM6sUDk_ch1d"
      },
      "execution_count": 20,
      "outputs": []
    },
    {
      "cell_type": "code",
      "source": [
        "### Search\n",
        "from langchain_community.tools.tavily_search import TavilySearchResults\n",
        "web_search_tool = TavilySearchResults(k=3)"
      ],
      "metadata": {
        "id": "zqUxFq1SchzM"
      },
      "execution_count": 21,
      "outputs": []
    },
    {
      "cell_type": "code",
      "source": [
        "# Define the graph state\n",
        "from typing import List\n",
        "from typing_extensions import TypedDict\n",
        "class GraphState(TypedDict):\n",
        "    \"\"\"\n",
        "    Represents the state of our graph.\n",
        "    Attributes:\n",
        "        question: question\n",
        "        generation: LLM generation\n",
        "        web_search: whether to add search\n",
        "        documents: list of documents\n",
        "    \"\"\"\n",
        "    question: str\n",
        "    generation: str\n",
        "    web_search: str\n",
        "    documents: List[str]"
      ],
      "metadata": {
        "id": "pTIuzc3Fchwv"
      },
      "execution_count": 22,
      "outputs": []
    },
    {
      "cell_type": "code",
      "source": [
        "# Define function nodes\n",
        "from langchain.schema import Document\n",
        "def retrieve(state):\n",
        "    \"\"\"\n",
        "    Retrieve documents\n",
        "    Args:\n",
        "        state (dict): The current graph state\n",
        "    Returns:\n",
        "        state (dict): New key added to state, documents, that contains retrieved documents\n",
        "    \"\"\"\n",
        "    print(\"---RETRIEVE---\")\n",
        "    question = state[\"question\"]\n",
        "    # Retrieval\n",
        "    documents = retriever.get_relevant_documents(question)\n",
        "    return {\"documents\": documents, \"question\": question}"
      ],
      "metadata": {
        "id": "idFAYyJechug"
      },
      "execution_count": 23,
      "outputs": []
    },
    {
      "cell_type": "code",
      "source": [
        "def generate(state):\n",
        "    \"\"\"\n",
        "    Generate answer\n",
        "    Args:\n",
        "        state (dict): The current graph state\n",
        "    Returns:\n",
        "        state (dict): New key added to state, generation, that contains LLM generation\n",
        "    \"\"\"\n",
        "    print(\"---GENERATE---\")\n",
        "    question = state[\"question\"]\n",
        "    documents = state[\"documents\"]\n",
        "    # RAG generation\n",
        "    generation = rag_chain.invoke({\"context\": documents, \"question\": question})\n",
        "    return {\"documents\": documents, \"question\": question, \"generation\": generation}"
      ],
      "metadata": {
        "id": "l0d28FAli9Rm"
      },
      "execution_count": 24,
      "outputs": []
    },
    {
      "cell_type": "code",
      "source": [
        "def evaluate_documents(state):\n",
        "    \"\"\"\n",
        "    Determines whether the retrieved documents are relevant to the question.\n",
        "    Args:\n",
        "        state (dict): The current graph state\n",
        "    Returns:\n",
        "        state (dict): Updates documents key with only filtered relevant documents\n",
        "    \"\"\"\n",
        "    print(\"---CHECK DOCUMENT RELEVANCE TO QUESTION---\")\n",
        "    question = state[\"question\"]\n",
        "    documents = state[\"documents\"]\n",
        "    # Score each doc\n",
        "    filtered_docs = []\n",
        "    web_search = \"No\"\n",
        "    for d in documents:\n",
        "        score = retrieval_grader.invoke(\n",
        "            {\"question\": question, \"document\": d.page_content}\n",
        "        )\n",
        "        grade = score.binary_score\n",
        "        if grade == \"yes\":\n",
        "            print(\"---GRADE: DOCUMENT RELEVANT---\")\n",
        "            filtered_docs.append(d)\n",
        "        else:\n",
        "            print(\"---GRADE: DOCUMENT NOT RELEVANT---\")\n",
        "            continue\n",
        "    if len(filtered_docs) / len(documents) <= 0.7:\n",
        "        web_search = \"Yes\"\n",
        "    return {\"documents\": filtered_docs, \"question\": question, \"web_search\": web_search}"
      ],
      "metadata": {
        "id": "2gJ1SO66i-52"
      },
      "execution_count": 25,
      "outputs": []
    },
    {
      "cell_type": "code",
      "source": [
        "def transform_query(state):\n",
        "    \"\"\"\n",
        "    Transform the query to produce a better question.\n",
        "    Args:\n",
        "        state (dict): The current graph state\n",
        "    Returns:\n",
        "        state (dict): Updates question key with a re-phrased question\n",
        "    \"\"\"\n",
        "    print(\"---TRANSFORM QUERY---\")\n",
        "    question = state[\"question\"]\n",
        "    documents = state[\"documents\"]\n",
        "    # Re-write question\n",
        "    better_question = question_rewriter.invoke({\"question\": question})\n",
        "    return {\"documents\": documents, \"question\": better_question}"
      ],
      "metadata": {
        "id": "3QkecBY0jA1J"
      },
      "execution_count": 26,
      "outputs": []
    },
    {
      "cell_type": "code",
      "source": [
        "def web_search(state):\n",
        "    \"\"\"\n",
        "    Web search based on the re-phrased question.\n",
        "    Args:\n",
        "        state (dict): The current graph state\n",
        "    Returns:\n",
        "        state (dict): Updates documents key with appended web results\n",
        "    \"\"\"\n",
        "    print(\"---WEB SEARCH---\")\n",
        "    question = state[\"question\"]\n",
        "    documents = state[\"documents\"]\n",
        "    # Web search\n",
        "    docs = web_search_tool.invoke({\"query\": question})\n",
        "    web_results = \"\\\\n\".join([d[\"content\"] for d in docs])\n",
        "    web_results = Document(page_content=web_results)\n",
        "    documents.append(web_results)\n",
        "    return {\"documents\": documents, \"question\": question}"
      ],
      "metadata": {
        "id": "WC8IkFHzjCdR"
      },
      "execution_count": 27,
      "outputs": []
    },
    {
      "cell_type": "code",
      "source": [
        "def decide_to_generate(state):\n",
        "    \"\"\"\n",
        "    Determines whether to generate an answer, or re-generate a question.\n",
        "    Args:\n",
        "        state (dict): The current graph state\n",
        "    Returns:\n",
        "        str: Binary decision for next node to call\n",
        "    \"\"\"\n",
        "    print(\"---ASSESS GRADED DOCUMENTS---\")\n",
        "    state[\"question\"]\n",
        "    web_search = state[\"web_search\"]\n",
        "    state[\"documents\"]\n",
        "    if web_search == \"Yes\":\n",
        "        # All documents have been filtered check_relevance\n",
        "        # We will re-generate a new query\n",
        "        print(\n",
        "            \"---DECISION: ALL DOCUMENTS ARE NOT RELEVANT TO QUESTION, TRANSFORM QUERY---\"\n",
        "        )\n",
        "        return \"transform_query\"\n",
        "    else:\n",
        "        # We have relevant documents, so generate answer\n",
        "        print(\"---DECISION: GENERATE---\")\n",
        "        return \"generate\""
      ],
      "metadata": {
        "id": "8HXSJMq2jEby"
      },
      "execution_count": 28,
      "outputs": []
    },
    {
      "cell_type": "code",
      "source": [
        "from langgraph.graph import END, StateGraph, START\n",
        "\n",
        "workflow = StateGraph(GraphState)\n",
        "\n",
        "# Define the nodes\n",
        "workflow.add_node(\"retrieve\", retrieve)  # retrieve\n",
        "workflow.add_node(\"grade_documents\", evaluate_documents)  # evaluate documents\n",
        "workflow.add_node(\"generate\", generate)  # generate\n",
        "workflow.add_node(\"transform_query\", transform_query)  # transform_query\n",
        "workflow.add_node(\"web_search_node\", web_search)  # web search\n",
        "\n",
        "# Build graph\n",
        "workflow.add_edge(START, \"retrieve\")\n",
        "workflow.add_edge(\"retrieve\", \"grade_documents\")\n",
        "workflow.add_conditional_edges(\n",
        "    \"grade_documents\",\n",
        "    decide_to_generate,\n",
        "    {\n",
        "        \"transform_query\": \"transform_query\",\n",
        "        \"generate\": \"generate\",\n",
        "    },\n",
        ")\n",
        "workflow.add_edge(\"transform_query\", \"web_search_node\")\n",
        "workflow.add_edge(\"web_search_node\", \"generate\")\n",
        "workflow.add_edge(\"generate\", END)\n",
        "# Compile\n",
        "app = workflow.compile()"
      ],
      "metadata": {
        "id": "80Z821eAjF56"
      },
      "execution_count": 29,
      "outputs": []
    },
    {
      "cell_type": "code",
      "source": [
        "from IPython.display import Image, display\n",
        "try:\n",
        "    display(Image(app.get_graph(xray=True).draw_mermaid_png()))\n",
        "except Exception:\n",
        "    # This requires some extra dependencies and is optional\n",
        "    pass"
      ],
      "metadata": {
        "colab": {
          "base_uri": "https://localhost:8080/",
          "height": 647
        },
        "id": "gMyPb7FVjH39",
        "outputId": "1902074c-0293-4d9e-ad51-13093f391973"
      },
      "execution_count": 30,
      "outputs": [
        {
          "output_type": "display_data",
          "data": {
            "image/png": "[encoded data removed]",
            "text/plain": [
              "<IPython.core.display.Image object>"
            ]
          },
          "metadata": {}
        }
      ]
    },
    {
      "cell_type": "code",
      "source": [
        "from pprint import pprint\n",
        "# Run\n",
        "inputs = {\"question\": \"What's is LSTM?\"}\n",
        "for output in app.stream(inputs):\n",
        "    for key, value in output.items():\n",
        "        # Node\n",
        "        pprint(f\"Node '{key}':\")\n",
        "        # Optional: print full state at each node\n",
        "        pprint(value, indent=2, width=80, depth=None)\n",
        "    pprint(\"\\\\n---\\\\n\")\n",
        "# Final generation\n",
        "pprint(value[\"generation\"])"
      ],
      "metadata": {
        "colab": {
          "base_uri": "https://localhost:8080/"
        },
        "id": "Oqkm3hBAjJii",
        "outputId": "a5dc9c80-dfbc-42a5-b0af-2dc310d28274"
      },
      "execution_count": 33,
      "outputs": [
        {
          "output_type": "stream",
          "name": "stdout",
          "text": [
            "---RETRIEVE---\n",
            "\"Node 'retrieve':\"\n",
            "{ 'documents': [ Document(metadata={'description': 'Understanding LSTM networks  so ,Imagine you’re watching a movie. As the plot unfolds, you don’t forget what happened at the beginning, right? You remember the characters.......', 'source': 'https://medium.com/@aakuskar.980/understanding-lstm-networks-a-simplified-explanation-3659be6b4923?source=user_profile_page---------0-------------5c9ca647dacc----------------------', 'title': 'Understanding LSTM Networks: A Simplified Explanation | by Aditya Ak | Medium', 'language': 'en'}, page_content='Understanding LSTM Networks: A Simplified Explanation | by Aditya Ak | MediumOpen in appSign upSign inWriteSign upSign inUnderstanding LSTM Networks: A Simplified ExplanationAditya AkFollow12 min read·Mar 3, 2025--ListenShareImagine you’re watching a movie. As the plot unfolds, you don’t forget what happened at the beginning, right? You remember the characters, their relationships, especially the actress, and how all of this helps you predict what will happen next. For example, if the hero loses their sword in the first scene, you know when they’ll pick it up later because your brain connects the dots!Now, think of a basic neural network as someone who watches the same movie but forgets everything after each scene. If you ask them, “Why is the hero fighting the villain?” they might say, “I don’t know, I forgot what happened earlier!” This is because basic neural networks process information step by step without retaining past information. They start from scratch every time, making it hard to understand things that depend on context — like a movie plot or even a sentence in an'),\n",
            "                 Document(metadata={'description': 'Understanding LSTM networks  so ,Imagine you’re watching a movie. As the plot unfolds, you don’t forget what happened at the beginning, right? You remember the characters.......', 'title': 'Understanding LSTM Networks: A Simplified Explanation | by Aditya Ak | Medium', 'source': 'https://medium.com/@aakuskar.980/understanding-lstm-networks-a-simplified-explanation-3659be6b4923?source=user_profile_page---------0-------------5c9ca647dacc----------------------', 'language': 'en'}, page_content='Understanding LSTM Networks: A Simplified Explanation | by Aditya Ak | MediumOpen in appSign upSign inWriteSign upSign inUnderstanding LSTM Networks: A Simplified ExplanationAditya AkFollow12 min read·Mar 3, 2025--ListenShareImagine you’re watching a movie. As the plot unfolds, you don’t forget what happened at the beginning, right? You remember the characters, their relationships, especially the actress, and how all of this helps you predict what will happen next. For example, if the hero loses their sword in the first scene, you know when they’ll pick it up later because your brain connects the dots!Now, think of a basic neural network as someone who watches the same movie but forgets everything after each scene. If you ask them, “Why is the hero fighting the villain?” they might say, “I don’t know, I forgot what happened earlier!” This is because basic neural networks process information step by step without retaining past information. They start from scratch every time, making it hard to understand things that depend on context — like a movie plot or even a sentence in an'),\n",
            "                 Document(metadata={'language': 'en', 'description': 'Understanding LSTM networks  so ,Imagine you’re watching a movie. As the plot unfolds, you don’t forget what happened at the beginning, right? You remember the characters.......', 'title': 'Understanding LSTM Networks: A Simplified Explanation | by Aditya Ak | Medium', 'source': 'https://medium.com/@aakuskar.980/understanding-lstm-networks-a-simplified-explanation-3659be6b4923?source=user_profile_page---------0-------------5c9ca647dacc----------------------'}, page_content='Understanding LSTM Networks: A Simplified Explanation | by Aditya Ak | MediumOpen in appSign upSign inWriteSign upSign inUnderstanding LSTM Networks: A Simplified ExplanationAditya Ak·Follow12 min read·Mar 3, 2025--ListenShareImagine you’re watching a movie. As the plot unfolds, you don’t forget what happened at the beginning, right? You remember the characters, their relationships, especially the actress, and how all of this helps you predict what will happen next. For example, if the hero loses their sword in the first scene, you know when they’ll pick it up later because your brain connects the dots!Now, think of a basic neural network as someone who watches the same movie but forgets everything after each scene. If you ask them, “Why is the hero fighting the villain?” they might say, “I don’t know, I forgot what happened earlier!” This is because basic neural networks process information step by step without retaining past information. They start from scratch every time, making it hard to understand things that depend on context — like a movie plot or even a sentence in an'),\n",
            "                 Document(metadata={'title': 'Understanding LSTM Networks: A Simplified Explanation | by Aditya Ak | Medium', 'description': 'Understanding LSTM networks  so ,Imagine you’re watching a movie. As the plot unfolds, you don’t forget what happened at the beginning, right? You remember the characters.......', 'source': 'https://medium.com/@aakuskar.980/understanding-lstm-networks-a-simplified-explanation-3659be6b4923?source=user_profile_page---------0-------------5c9ca647dacc----------------------', 'language': 'en'}, page_content='Understanding LSTM Networks: A Simplified Explanation | by Aditya Ak | MediumOpen in appSign upSign inWriteSign upSign inUnderstanding LSTM Networks: A Simplified ExplanationAditya Ak·Follow12 min read·Mar 3, 2025--ListenShareImagine you’re watching a movie. As the plot unfolds, you don’t forget what happened at the beginning, right? You remember the characters, their relationships, especially the actress, and how all of this helps you predict what will happen next. For example, if the hero loses their sword in the first scene, you know when they’ll pick it up later because your brain connects the dots!Now, think of a basic neural network as someone who watches the same movie but forgets everything after each scene. If you ask them, “Why is the hero fighting the villain?” they might say, “I don’t know, I forgot what happened earlier!” This is because basic neural networks process information step by step without retaining past information. They start from scratch every time, making it hard to understand things that depend on context — like a movie plot or even a sentence in an')],\n",
            "  'question': \"What's is LSTM?\"}\n",
            "'\\\\n---\\\\n'\n",
            "---CHECK DOCUMENT RELEVANCE TO QUESTION---\n",
            "---GRADE: DOCUMENT RELEVANT---\n",
            "---GRADE: DOCUMENT RELEVANT---\n",
            "---GRADE: DOCUMENT RELEVANT---\n",
            "---GRADE: DOCUMENT RELEVANT---\n",
            "---ASSESS GRADED DOCUMENTS---\n",
            "---DECISION: GENERATE---\n",
            "\"Node 'grade_documents':\"\n",
            "{ 'documents': [ Document(metadata={'description': 'Understanding LSTM networks  so ,Imagine you’re watching a movie. As the plot unfolds, you don’t forget what happened at the beginning, right? You remember the characters.......', 'source': 'https://medium.com/@aakuskar.980/understanding-lstm-networks-a-simplified-explanation-3659be6b4923?source=user_profile_page---------0-------------5c9ca647dacc----------------------', 'title': 'Understanding LSTM Networks: A Simplified Explanation | by Aditya Ak | Medium', 'language': 'en'}, page_content='Understanding LSTM Networks: A Simplified Explanation | by Aditya Ak | MediumOpen in appSign upSign inWriteSign upSign inUnderstanding LSTM Networks: A Simplified ExplanationAditya AkFollow12 min read·Mar 3, 2025--ListenShareImagine you’re watching a movie. As the plot unfolds, you don’t forget what happened at the beginning, right? You remember the characters, their relationships, especially the actress, and how all of this helps you predict what will happen next. For example, if the hero loses their sword in the first scene, you know when they’ll pick it up later because your brain connects the dots!Now, think of a basic neural network as someone who watches the same movie but forgets everything after each scene. If you ask them, “Why is the hero fighting the villain?” they might say, “I don’t know, I forgot what happened earlier!” This is because basic neural networks process information step by step without retaining past information. They start from scratch every time, making it hard to understand things that depend on context — like a movie plot or even a sentence in an'),\n",
            "                 Document(metadata={'description': 'Understanding LSTM networks  so ,Imagine you’re watching a movie. As the plot unfolds, you don’t forget what happened at the beginning, right? You remember the characters.......', 'title': 'Understanding LSTM Networks: A Simplified Explanation | by Aditya Ak | Medium', 'source': 'https://medium.com/@aakuskar.980/understanding-lstm-networks-a-simplified-explanation-3659be6b4923?source=user_profile_page---------0-------------5c9ca647dacc----------------------', 'language': 'en'}, page_content='Understanding LSTM Networks: A Simplified Explanation | by Aditya Ak | MediumOpen in appSign upSign inWriteSign upSign inUnderstanding LSTM Networks: A Simplified ExplanationAditya AkFollow12 min read·Mar 3, 2025--ListenShareImagine you’re watching a movie. As the plot unfolds, you don’t forget what happened at the beginning, right? You remember the characters, their relationships, especially the actress, and how all of this helps you predict what will happen next. For example, if the hero loses their sword in the first scene, you know when they’ll pick it up later because your brain connects the dots!Now, think of a basic neural network as someone who watches the same movie but forgets everything after each scene. If you ask them, “Why is the hero fighting the villain?” they might say, “I don’t know, I forgot what happened earlier!” This is because basic neural networks process information step by step without retaining past information. They start from scratch every time, making it hard to understand things that depend on context — like a movie plot or even a sentence in an'),\n",
            "                 Document(metadata={'language': 'en', 'description': 'Understanding LSTM networks  so ,Imagine you’re watching a movie. As the plot unfolds, you don’t forget what happened at the beginning, right? You remember the characters.......', 'title': 'Understanding LSTM Networks: A Simplified Explanation | by Aditya Ak | Medium', 'source': 'https://medium.com/@aakuskar.980/understanding-lstm-networks-a-simplified-explanation-3659be6b4923?source=user_profile_page---------0-------------5c9ca647dacc----------------------'}, page_content='Understanding LSTM Networks: A Simplified Explanation | by Aditya Ak | MediumOpen in appSign upSign inWriteSign upSign inUnderstanding LSTM Networks: A Simplified ExplanationAditya Ak·Follow12 min read·Mar 3, 2025--ListenShareImagine you’re watching a movie. As the plot unfolds, you don’t forget what happened at the beginning, right? You remember the characters, their relationships, especially the actress, and how all of this helps you predict what will happen next. For example, if the hero loses their sword in the first scene, you know when they’ll pick it up later because your brain connects the dots!Now, think of a basic neural network as someone who watches the same movie but forgets everything after each scene. If you ask them, “Why is the hero fighting the villain?” they might say, “I don’t know, I forgot what happened earlier!” This is because basic neural networks process information step by step without retaining past information. They start from scratch every time, making it hard to understand things that depend on context — like a movie plot or even a sentence in an'),\n",
            "                 Document(metadata={'title': 'Understanding LSTM Networks: A Simplified Explanation | by Aditya Ak | Medium', 'description': 'Understanding LSTM networks  so ,Imagine you’re watching a movie. As the plot unfolds, you don’t forget what happened at the beginning, right? You remember the characters.......', 'source': 'https://medium.com/@aakuskar.980/understanding-lstm-networks-a-simplified-explanation-3659be6b4923?source=user_profile_page---------0-------------5c9ca647dacc----------------------', 'language': 'en'}, page_content='Understanding LSTM Networks: A Simplified Explanation | by Aditya Ak | MediumOpen in appSign upSign inWriteSign upSign inUnderstanding LSTM Networks: A Simplified ExplanationAditya Ak·Follow12 min read·Mar 3, 2025--ListenShareImagine you’re watching a movie. As the plot unfolds, you don’t forget what happened at the beginning, right? You remember the characters, their relationships, especially the actress, and how all of this helps you predict what will happen next. For example, if the hero loses their sword in the first scene, you know when they’ll pick it up later because your brain connects the dots!Now, think of a basic neural network as someone who watches the same movie but forgets everything after each scene. If you ask them, “Why is the hero fighting the villain?” they might say, “I don’t know, I forgot what happened earlier!” This is because basic neural networks process information step by step without retaining past information. They start from scratch every time, making it hard to understand things that depend on context — like a movie plot or even a sentence in an')],\n",
            "  'question': \"What's is LSTM?\",\n",
            "  'web_search': 'No'}\n",
            "'\\\\n---\\\\n'\n",
            "---GENERATE---\n",
            "\"Node 'generate':\"\n",
            "{ 'documents': [ Document(metadata={'description': 'Understanding LSTM networks  so ,Imagine you’re watching a movie. As the plot unfolds, you don’t forget what happened at the beginning, right? You remember the characters.......', 'source': 'https://medium.com/@aakuskar.980/understanding-lstm-networks-a-simplified-explanation-3659be6b4923?source=user_profile_page---------0-------------5c9ca647dacc----------------------', 'title': 'Understanding LSTM Networks: A Simplified Explanation | by Aditya Ak | Medium', 'language': 'en'}, page_content='Understanding LSTM Networks: A Simplified Explanation | by Aditya Ak | MediumOpen in appSign upSign inWriteSign upSign inUnderstanding LSTM Networks: A Simplified ExplanationAditya AkFollow12 min read·Mar 3, 2025--ListenShareImagine you’re watching a movie. As the plot unfolds, you don’t forget what happened at the beginning, right? You remember the characters, their relationships, especially the actress, and how all of this helps you predict what will happen next. For example, if the hero loses their sword in the first scene, you know when they’ll pick it up later because your brain connects the dots!Now, think of a basic neural network as someone who watches the same movie but forgets everything after each scene. If you ask them, “Why is the hero fighting the villain?” they might say, “I don’t know, I forgot what happened earlier!” This is because basic neural networks process information step by step without retaining past information. They start from scratch every time, making it hard to understand things that depend on context — like a movie plot or even a sentence in an'),\n",
            "                 Document(metadata={'description': 'Understanding LSTM networks  so ,Imagine you’re watching a movie. As the plot unfolds, you don’t forget what happened at the beginning, right? You remember the characters.......', 'title': 'Understanding LSTM Networks: A Simplified Explanation | by Aditya Ak | Medium', 'source': 'https://medium.com/@aakuskar.980/understanding-lstm-networks-a-simplified-explanation-3659be6b4923?source=user_profile_page---------0-------------5c9ca647dacc----------------------', 'language': 'en'}, page_content='Understanding LSTM Networks: A Simplified Explanation | by Aditya Ak | MediumOpen in appSign upSign inWriteSign upSign inUnderstanding LSTM Networks: A Simplified ExplanationAditya AkFollow12 min read·Mar 3, 2025--ListenShareImagine you’re watching a movie. As the plot unfolds, you don’t forget what happened at the beginning, right? You remember the characters, their relationships, especially the actress, and how all of this helps you predict what will happen next. For example, if the hero loses their sword in the first scene, you know when they’ll pick it up later because your brain connects the dots!Now, think of a basic neural network as someone who watches the same movie but forgets everything after each scene. If you ask them, “Why is the hero fighting the villain?” they might say, “I don’t know, I forgot what happened earlier!” This is because basic neural networks process information step by step without retaining past information. They start from scratch every time, making it hard to understand things that depend on context — like a movie plot or even a sentence in an'),\n",
            "                 Document(metadata={'language': 'en', 'description': 'Understanding LSTM networks  so ,Imagine you’re watching a movie. As the plot unfolds, you don’t forget what happened at the beginning, right? You remember the characters.......', 'title': 'Understanding LSTM Networks: A Simplified Explanation | by Aditya Ak | Medium', 'source': 'https://medium.com/@aakuskar.980/understanding-lstm-networks-a-simplified-explanation-3659be6b4923?source=user_profile_page---------0-------------5c9ca647dacc----------------------'}, page_content='Understanding LSTM Networks: A Simplified Explanation | by Aditya Ak | MediumOpen in appSign upSign inWriteSign upSign inUnderstanding LSTM Networks: A Simplified ExplanationAditya Ak·Follow12 min read·Mar 3, 2025--ListenShareImagine you’re watching a movie. As the plot unfolds, you don’t forget what happened at the beginning, right? You remember the characters, their relationships, especially the actress, and how all of this helps you predict what will happen next. For example, if the hero loses their sword in the first scene, you know when they’ll pick it up later because your brain connects the dots!Now, think of a basic neural network as someone who watches the same movie but forgets everything after each scene. If you ask them, “Why is the hero fighting the villain?” they might say, “I don’t know, I forgot what happened earlier!” This is because basic neural networks process information step by step without retaining past information. They start from scratch every time, making it hard to understand things that depend on context — like a movie plot or even a sentence in an'),\n",
            "                 Document(metadata={'title': 'Understanding LSTM Networks: A Simplified Explanation | by Aditya Ak | Medium', 'description': 'Understanding LSTM networks  so ,Imagine you’re watching a movie. As the plot unfolds, you don’t forget what happened at the beginning, right? You remember the characters.......', 'source': 'https://medium.com/@aakuskar.980/understanding-lstm-networks-a-simplified-explanation-3659be6b4923?source=user_profile_page---------0-------------5c9ca647dacc----------------------', 'language': 'en'}, page_content='Understanding LSTM Networks: A Simplified Explanation | by Aditya Ak | MediumOpen in appSign upSign inWriteSign upSign inUnderstanding LSTM Networks: A Simplified ExplanationAditya Ak·Follow12 min read·Mar 3, 2025--ListenShareImagine you’re watching a movie. As the plot unfolds, you don’t forget what happened at the beginning, right? You remember the characters, their relationships, especially the actress, and how all of this helps you predict what will happen next. For example, if the hero loses their sword in the first scene, you know when they’ll pick it up later because your brain connects the dots!Now, think of a basic neural network as someone who watches the same movie but forgets everything after each scene. If you ask them, “Why is the hero fighting the villain?” they might say, “I don’t know, I forgot what happened earlier!” This is because basic neural networks process information step by step without retaining past information. They start from scratch every time, making it hard to understand things that depend on context — like a movie plot or even a sentence in an')],\n",
            "  'generation': 'LSTM (Long Short-Term Memory) is a type of neural network '\n",
            "                'that can remember past information and retain context over '\n",
            "                'time, unlike basic neural networks which process information '\n",
            "                'step by step without retaining past information. This allows '\n",
            "                'LSTMs to understand things that depend on context, like a '\n",
            "                'movie plot or a sentence in a language. LSTMs are designed to '\n",
            "                'handle the problem of vanishing gradients in basic neural '\n",
            "                'networks.',\n",
            "  'question': \"What's is LSTM?\"}\n",
            "'\\\\n---\\\\n'\n",
            "('LSTM (Long Short-Term Memory) is a type of neural network that can remember '\n",
            " 'past information and retain context over time, unlike basic neural networks '\n",
            " 'which process information step by step without retaining past information. '\n",
            " 'This allows LSTMs to understand things that depend on context, like a movie '\n",
            " 'plot or a sentence in a language. LSTMs are designed to handle the problem '\n",
            " 'of vanishing gradients in basic neural networks.')\n"
          ]
        }
      ]
    },
    {
      "cell_type": "code",
      "source": [
        "from pprint import pprint\n",
        "# Run\n",
        "inputs = {\"question\": \"What are features of MCP?\"}\n",
        "for output in app.stream(inputs):\n",
        "    for key, value in output.items():\n",
        "        # Node\n",
        "        pprint(f\"Node '{key}':\")\n",
        "        # Optional: print full state at each node\n",
        "        pprint(value, indent=2, width=80, depth=None)\n",
        "    pprint(\"\\\\n---\\\\n\")\n",
        "# Final generation\n",
        "pprint(value[\"generation\"])"
      ],
      "metadata": {
        "colab": {
          "base_uri": "https://localhost:8080/"
        },
        "id": "Z2z75jNcjMNb",
        "outputId": "4a7fdc3b-3ee5-490a-c0c6-37f7abc6860a"
      },
      "execution_count": 34,
      "outputs": [
        {
          "output_type": "stream",
          "name": "stdout",
          "text": [
            "---RETRIEVE---\n",
            "\"Node 'retrieve':\"\n",
            "{ 'documents': [ Document(metadata={'description': 'In the rapidly evolving world of AI, the Model Context Protocol (MCP) is gaining attention for a good reason. It acts as a communication bridge between AI models and external systems, enabling AI…', 'source': 'https://medium.com/@aakuskar.980/what-is-the-model-context-protocol-mcp-f6e287d62adc?source=user_profile_page---------2-------------5c9ca647dacc----------------------', 'title': 'What is the Model Context Protocol (MCP)? | by Aditya Ak | Mar, 2025 | Medium', 'language': 'en'}, page_content='interoperability.Communication Methods: Supports multiple communication methods, including STDIO and SSE, for flexibility in tool integration.Tool Integration: Enables language models to use external tools, enhancing their functionality and applicability.How Does MCP Work?MCP operates on a client-server architecture:MCP Hosts: These are the AI applications or interfaces, such as IDEs, or AI tools, that seek to access data through MCP. They initiate requests for data or actions.MCP Clients: These are protocol clients that maintain a one-to-one connection with MCP servers, acting as intermediaries to forward requests and responses.MCP Servers: Lightweight programs that expose specific capabilities through the MCP, connecting to local or remote data sources. Examples include servers for file systems, databases, or APIs, each advertising their capabilities for hosts to utilize.Local Data Sources: These include the computer’s files, databases, and services that MCP servers can securely access, such as reading local documents or querying SQLite databases.Remote Services: External systems available over the internet, such as APIs, that MCP servers can connect to, enabling AI to interact with cloud-based tools or services.Use'),\n",
            "                 Document(metadata={'title': 'What is the Model Context Protocol (MCP)? | by Aditya Ak | Mar, 2025 | Medium', 'source': 'https://medium.com/@aakuskar.980/what-is-the-model-context-protocol-mcp-f6e287d62adc?source=user_profile_page---------2-------------5c9ca647dacc----------------------', 'language': 'en', 'description': 'In the rapidly evolving world of AI, the Model Context Protocol (MCP) is gaining attention for a good reason. It acts as a communication bridge between AI models and external systems, enabling AI…'}, page_content='interoperability.Communication Methods: Supports multiple communication methods, including STDIO and SSE, for flexibility in tool integration.Tool Integration: Enables language models to use external tools, enhancing their functionality and applicability.How Does MCP Work?MCP operates on a client-server architecture:MCP Hosts: These are the AI applications or interfaces, such as IDEs, or AI tools, that seek to access data through MCP. They initiate requests for data or actions.MCP Clients: These are protocol clients that maintain a one-to-one connection with MCP servers, acting as intermediaries to forward requests and responses.MCP Servers: Lightweight programs that expose specific capabilities through the MCP, connecting to local or remote data sources. Examples include servers for file systems, databases, or APIs, each advertising their capabilities for hosts to utilize.Local Data Sources: These include the computer’s files, databases, and services that MCP servers can securely access, such as reading local documents or querying SQLite databases.Remote Services: External systems available over the internet, such as APIs, that MCP servers can connect to, enabling AI to interact with cloud-based tools or services.Use'),\n",
            "                 Document(metadata={'description': 'In the rapidly evolving world of AI, the Model Context Protocol (MCP) is gaining attention for a good reason. It acts as a communication bridge between AI models and external systems, enabling AI…', 'language': 'en', 'source': 'https://medium.com/@aakuskar.980/what-is-the-model-context-protocol-mcp-f6e287d62adc?source=user_profile_page---------2-------------5c9ca647dacc----------------------', 'title': 'What is the Model Context Protocol (MCP)? | by Aditya Ak | Mar, 2025 | Medium'}, page_content='interoperability.Communication Methods: Supports multiple communication methods, including STDIO and SSE, for flexibility in tool integration.Tool Integration: Enables language models to use external tools, enhancing their functionality and applicability.How Does MCP Work?MCP operates on a client-server architecture:MCP Hosts: These are the AI applications or interfaces, such as IDEs, or AI tools, that seek to access data through MCP. They initiate requests for data or actions.MCP Clients: These are protocol clients that maintain a one-to-one connection with MCP servers, acting as intermediaries to forward requests and responses.MCP Servers: Lightweight programs that expose specific capabilities through the MCP, connecting to local or remote data sources. Examples include servers for file systems, databases, or APIs, each advertising their capabilities for hosts to utilize.Local Data Sources: These include the computer’s files, databases, and services that MCP servers can securely access, such as reading local documents or querying SQLite databases.Remote Services: External systems available over the internet, such as APIs, that MCP servers can connect to, enabling AI to interact with cloud-based tools or services.Use'),\n",
            "                 Document(metadata={'source': 'https://medium.com/@aakuskar.980/what-is-the-model-context-protocol-mcp-f6e287d62adc?source=user_profile_page---------2-------------5c9ca647dacc----------------------', 'title': 'What is the Model Context Protocol (MCP)? | by Aditya Ak | Mar, 2025 | Medium', 'language': 'en', 'description': 'In the rapidly evolving world of AI, the Model Context Protocol (MCP) is gaining attention for a good reason. It acts as a communication bridge between AI models and external systems, enabling AI…'}, page_content='interoperability.Communication Methods: Supports multiple communication methods, including STDIO and SSE, for flexibility in tool integration.Tool Integration: Enables language models to use external tools, enhancing their functionality and applicability.How Does MCP Work?MCP operates on a client-server architecture:MCP Hosts: These are the AI applications or interfaces, such as IDEs, or AI tools, that seek to access data through MCP. They initiate requests for data or actions.MCP Clients: These are protocol clients that maintain a one-to-one connection with MCP servers, acting as intermediaries to forward requests and responses.MCP Servers: Lightweight programs that expose specific capabilities through the MCP, connecting to local or remote data sources. Examples include servers for file systems, databases, or APIs, each advertising their capabilities for hosts to utilize.Local Data Sources: These include the computer’s files, databases, and services that MCP servers can securely access, such as reading local documents or querying SQLite databases.Remote Services: External systems available over the internet, such as APIs, that MCP servers can connect to, enabling AI to interact with cloud-based tools or services.Use')],\n",
            "  'question': 'What are features of MCP?'}\n",
            "'\\\\n---\\\\n'\n",
            "---CHECK DOCUMENT RELEVANCE TO QUESTION---\n",
            "---GRADE: DOCUMENT RELEVANT---\n",
            "---GRADE: DOCUMENT RELEVANT---\n",
            "---GRADE: DOCUMENT RELEVANT---\n",
            "---GRADE: DOCUMENT RELEVANT---\n",
            "---ASSESS GRADED DOCUMENTS---\n",
            "---DECISION: GENERATE---\n",
            "\"Node 'grade_documents':\"\n",
            "{ 'documents': [ Document(metadata={'description': 'In the rapidly evolving world of AI, the Model Context Protocol (MCP) is gaining attention for a good reason. It acts as a communication bridge between AI models and external systems, enabling AI…', 'source': 'https://medium.com/@aakuskar.980/what-is-the-model-context-protocol-mcp-f6e287d62adc?source=user_profile_page---------2-------------5c9ca647dacc----------------------', 'title': 'What is the Model Context Protocol (MCP)? | by Aditya Ak | Mar, 2025 | Medium', 'language': 'en'}, page_content='interoperability.Communication Methods: Supports multiple communication methods, including STDIO and SSE, for flexibility in tool integration.Tool Integration: Enables language models to use external tools, enhancing their functionality and applicability.How Does MCP Work?MCP operates on a client-server architecture:MCP Hosts: These are the AI applications or interfaces, such as IDEs, or AI tools, that seek to access data through MCP. They initiate requests for data or actions.MCP Clients: These are protocol clients that maintain a one-to-one connection with MCP servers, acting as intermediaries to forward requests and responses.MCP Servers: Lightweight programs that expose specific capabilities through the MCP, connecting to local or remote data sources. Examples include servers for file systems, databases, or APIs, each advertising their capabilities for hosts to utilize.Local Data Sources: These include the computer’s files, databases, and services that MCP servers can securely access, such as reading local documents or querying SQLite databases.Remote Services: External systems available over the internet, such as APIs, that MCP servers can connect to, enabling AI to interact with cloud-based tools or services.Use'),\n",
            "                 Document(metadata={'title': 'What is the Model Context Protocol (MCP)? | by Aditya Ak | Mar, 2025 | Medium', 'source': 'https://medium.com/@aakuskar.980/what-is-the-model-context-protocol-mcp-f6e287d62adc?source=user_profile_page---------2-------------5c9ca647dacc----------------------', 'language': 'en', 'description': 'In the rapidly evolving world of AI, the Model Context Protocol (MCP) is gaining attention for a good reason. It acts as a communication bridge between AI models and external systems, enabling AI…'}, page_content='interoperability.Communication Methods: Supports multiple communication methods, including STDIO and SSE, for flexibility in tool integration.Tool Integration: Enables language models to use external tools, enhancing their functionality and applicability.How Does MCP Work?MCP operates on a client-server architecture:MCP Hosts: These are the AI applications or interfaces, such as IDEs, or AI tools, that seek to access data through MCP. They initiate requests for data or actions.MCP Clients: These are protocol clients that maintain a one-to-one connection with MCP servers, acting as intermediaries to forward requests and responses.MCP Servers: Lightweight programs that expose specific capabilities through the MCP, connecting to local or remote data sources. Examples include servers for file systems, databases, or APIs, each advertising their capabilities for hosts to utilize.Local Data Sources: These include the computer’s files, databases, and services that MCP servers can securely access, such as reading local documents or querying SQLite databases.Remote Services: External systems available over the internet, such as APIs, that MCP servers can connect to, enabling AI to interact with cloud-based tools or services.Use'),\n",
            "                 Document(metadata={'description': 'In the rapidly evolving world of AI, the Model Context Protocol (MCP) is gaining attention for a good reason. It acts as a communication bridge between AI models and external systems, enabling AI…', 'language': 'en', 'source': 'https://medium.com/@aakuskar.980/what-is-the-model-context-protocol-mcp-f6e287d62adc?source=user_profile_page---------2-------------5c9ca647dacc----------------------', 'title': 'What is the Model Context Protocol (MCP)? | by Aditya Ak | Mar, 2025 | Medium'}, page_content='interoperability.Communication Methods: Supports multiple communication methods, including STDIO and SSE, for flexibility in tool integration.Tool Integration: Enables language models to use external tools, enhancing their functionality and applicability.How Does MCP Work?MCP operates on a client-server architecture:MCP Hosts: These are the AI applications or interfaces, such as IDEs, or AI tools, that seek to access data through MCP. They initiate requests for data or actions.MCP Clients: These are protocol clients that maintain a one-to-one connection with MCP servers, acting as intermediaries to forward requests and responses.MCP Servers: Lightweight programs that expose specific capabilities through the MCP, connecting to local or remote data sources. Examples include servers for file systems, databases, or APIs, each advertising their capabilities for hosts to utilize.Local Data Sources: These include the computer’s files, databases, and services that MCP servers can securely access, such as reading local documents or querying SQLite databases.Remote Services: External systems available over the internet, such as APIs, that MCP servers can connect to, enabling AI to interact with cloud-based tools or services.Use'),\n",
            "                 Document(metadata={'source': 'https://medium.com/@aakuskar.980/what-is-the-model-context-protocol-mcp-f6e287d62adc?source=user_profile_page---------2-------------5c9ca647dacc----------------------', 'title': 'What is the Model Context Protocol (MCP)? | by Aditya Ak | Mar, 2025 | Medium', 'language': 'en', 'description': 'In the rapidly evolving world of AI, the Model Context Protocol (MCP) is gaining attention for a good reason. It acts as a communication bridge between AI models and external systems, enabling AI…'}, page_content='interoperability.Communication Methods: Supports multiple communication methods, including STDIO and SSE, for flexibility in tool integration.Tool Integration: Enables language models to use external tools, enhancing their functionality and applicability.How Does MCP Work?MCP operates on a client-server architecture:MCP Hosts: These are the AI applications or interfaces, such as IDEs, or AI tools, that seek to access data through MCP. They initiate requests for data or actions.MCP Clients: These are protocol clients that maintain a one-to-one connection with MCP servers, acting as intermediaries to forward requests and responses.MCP Servers: Lightweight programs that expose specific capabilities through the MCP, connecting to local or remote data sources. Examples include servers for file systems, databases, or APIs, each advertising their capabilities for hosts to utilize.Local Data Sources: These include the computer’s files, databases, and services that MCP servers can securely access, such as reading local documents or querying SQLite databases.Remote Services: External systems available over the internet, such as APIs, that MCP servers can connect to, enabling AI to interact with cloud-based tools or services.Use')],\n",
            "  'question': 'What are features of MCP?',\n",
            "  'web_search': 'No'}\n",
            "'\\\\n---\\\\n'\n",
            "---GENERATE---\n",
            "\"Node 'generate':\"\n",
            "{ 'documents': [ Document(metadata={'description': 'In the rapidly evolving world of AI, the Model Context Protocol (MCP) is gaining attention for a good reason. It acts as a communication bridge between AI models and external systems, enabling AI…', 'source': 'https://medium.com/@aakuskar.980/what-is-the-model-context-protocol-mcp-f6e287d62adc?source=user_profile_page---------2-------------5c9ca647dacc----------------------', 'title': 'What is the Model Context Protocol (MCP)? | by Aditya Ak | Mar, 2025 | Medium', 'language': 'en'}, page_content='interoperability.Communication Methods: Supports multiple communication methods, including STDIO and SSE, for flexibility in tool integration.Tool Integration: Enables language models to use external tools, enhancing their functionality and applicability.How Does MCP Work?MCP operates on a client-server architecture:MCP Hosts: These are the AI applications or interfaces, such as IDEs, or AI tools, that seek to access data through MCP. They initiate requests for data or actions.MCP Clients: These are protocol clients that maintain a one-to-one connection with MCP servers, acting as intermediaries to forward requests and responses.MCP Servers: Lightweight programs that expose specific capabilities through the MCP, connecting to local or remote data sources. Examples include servers for file systems, databases, or APIs, each advertising their capabilities for hosts to utilize.Local Data Sources: These include the computer’s files, databases, and services that MCP servers can securely access, such as reading local documents or querying SQLite databases.Remote Services: External systems available over the internet, such as APIs, that MCP servers can connect to, enabling AI to interact with cloud-based tools or services.Use'),\n",
            "                 Document(metadata={'title': 'What is the Model Context Protocol (MCP)? | by Aditya Ak | Mar, 2025 | Medium', 'source': 'https://medium.com/@aakuskar.980/what-is-the-model-context-protocol-mcp-f6e287d62adc?source=user_profile_page---------2-------------5c9ca647dacc----------------------', 'language': 'en', 'description': 'In the rapidly evolving world of AI, the Model Context Protocol (MCP) is gaining attention for a good reason. It acts as a communication bridge between AI models and external systems, enabling AI…'}, page_content='interoperability.Communication Methods: Supports multiple communication methods, including STDIO and SSE, for flexibility in tool integration.Tool Integration: Enables language models to use external tools, enhancing their functionality and applicability.How Does MCP Work?MCP operates on a client-server architecture:MCP Hosts: These are the AI applications or interfaces, such as IDEs, or AI tools, that seek to access data through MCP. They initiate requests for data or actions.MCP Clients: These are protocol clients that maintain a one-to-one connection with MCP servers, acting as intermediaries to forward requests and responses.MCP Servers: Lightweight programs that expose specific capabilities through the MCP, connecting to local or remote data sources. Examples include servers for file systems, databases, or APIs, each advertising their capabilities for hosts to utilize.Local Data Sources: These include the computer’s files, databases, and services that MCP servers can securely access, such as reading local documents or querying SQLite databases.Remote Services: External systems available over the internet, such as APIs, that MCP servers can connect to, enabling AI to interact with cloud-based tools or services.Use'),\n",
            "                 Document(metadata={'description': 'In the rapidly evolving world of AI, the Model Context Protocol (MCP) is gaining attention for a good reason. It acts as a communication bridge between AI models and external systems, enabling AI…', 'language': 'en', 'source': 'https://medium.com/@aakuskar.980/what-is-the-model-context-protocol-mcp-f6e287d62adc?source=user_profile_page---------2-------------5c9ca647dacc----------------------', 'title': 'What is the Model Context Protocol (MCP)? | by Aditya Ak | Mar, 2025 | Medium'}, page_content='interoperability.Communication Methods: Supports multiple communication methods, including STDIO and SSE, for flexibility in tool integration.Tool Integration: Enables language models to use external tools, enhancing their functionality and applicability.How Does MCP Work?MCP operates on a client-server architecture:MCP Hosts: These are the AI applications or interfaces, such as IDEs, or AI tools, that seek to access data through MCP. They initiate requests for data or actions.MCP Clients: These are protocol clients that maintain a one-to-one connection with MCP servers, acting as intermediaries to forward requests and responses.MCP Servers: Lightweight programs that expose specific capabilities through the MCP, connecting to local or remote data sources. Examples include servers for file systems, databases, or APIs, each advertising their capabilities for hosts to utilize.Local Data Sources: These include the computer’s files, databases, and services that MCP servers can securely access, such as reading local documents or querying SQLite databases.Remote Services: External systems available over the internet, such as APIs, that MCP servers can connect to, enabling AI to interact with cloud-based tools or services.Use'),\n",
            "                 Document(metadata={'source': 'https://medium.com/@aakuskar.980/what-is-the-model-context-protocol-mcp-f6e287d62adc?source=user_profile_page---------2-------------5c9ca647dacc----------------------', 'title': 'What is the Model Context Protocol (MCP)? | by Aditya Ak | Mar, 2025 | Medium', 'language': 'en', 'description': 'In the rapidly evolving world of AI, the Model Context Protocol (MCP) is gaining attention for a good reason. It acts as a communication bridge between AI models and external systems, enabling AI…'}, page_content='interoperability.Communication Methods: Supports multiple communication methods, including STDIO and SSE, for flexibility in tool integration.Tool Integration: Enables language models to use external tools, enhancing their functionality and applicability.How Does MCP Work?MCP operates on a client-server architecture:MCP Hosts: These are the AI applications or interfaces, such as IDEs, or AI tools, that seek to access data through MCP. They initiate requests for data or actions.MCP Clients: These are protocol clients that maintain a one-to-one connection with MCP servers, acting as intermediaries to forward requests and responses.MCP Servers: Lightweight programs that expose specific capabilities through the MCP, connecting to local or remote data sources. Examples include servers for file systems, databases, or APIs, each advertising their capabilities for hosts to utilize.Local Data Sources: These include the computer’s files, databases, and services that MCP servers can securely access, such as reading local documents or querying SQLite databases.Remote Services: External systems available over the internet, such as APIs, that MCP servers can connect to, enabling AI to interact with cloud-based tools or services.Use')],\n",
            "  'generation': 'MCP features include interoperability, communication methods '\n",
            "                '(such as STDIO and SSE), and tool integration, enabling '\n",
            "                'language models to use external tools and interact with local '\n",
            "                'and remote data sources.',\n",
            "  'question': 'What are features of MCP?'}\n",
            "'\\\\n---\\\\n'\n",
            "('MCP features include interoperability, communication methods (such as STDIO '\n",
            " 'and SSE), and tool integration, enabling language models to use external '\n",
            " 'tools and interact with local and remote data sources.')\n"
          ]
        }
      ]
    },
    {
      "cell_type": "code",
      "source": [],
      "metadata": {
        "id": "sQUfnnRUjQ-B"
      },
      "execution_count": null,
      "outputs": []
    }
  ]
}