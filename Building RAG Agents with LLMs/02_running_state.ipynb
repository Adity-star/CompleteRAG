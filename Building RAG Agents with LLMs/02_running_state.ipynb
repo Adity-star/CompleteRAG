{
  "nbformat": 4,
  "nbformat_minor": 0,
  "metadata": {
    "colab": {
      "provenance": []
    },
    "kernelspec": {
      "name": "python3",
      "display_name": "Python 3"
    },
    "language_info": {
      "name": "python"
    }
  },
  "cells": [
    {
      "cell_type": "markdown",
      "source": [
        "# 1. Environment Setup"
      ],
      "metadata": {
        "id": "axMdDvflXDyv"
      }
    },
    {
      "cell_type": "code",
      "source": [
        "%pip install -q langchain langchain-nvidia-ai-endpoints gradio langchain_community"
      ],
      "metadata": {
        "colab": {
          "base_uri": "https://localhost:8080/"
        },
        "id": "XoR19ewIXH2b",
        "outputId": "d024661b-b88d-438a-f369-cbfe00c613de"
      },
      "execution_count": null,
      "outputs": [
        {
          "output_type": "stream",
          "name": "stdout",
          "text": [
            "\u001b[2K   \u001b[90m━━━━━━━━━━━━━━━━━━━━━━━━━━━━━━━━━━━━━━━━\u001b[0m \u001b[32m41.3/41.3 kB\u001b[0m \u001b[31m1.4 MB/s\u001b[0m eta \u001b[36m0:00:00\u001b[0m\n",
            "\u001b[2K   \u001b[90m━━━━━━━━━━━━━━━━━━━━━━━━━━━━━━━━━━━━━━━━\u001b[0m \u001b[32m51.3/51.3 MB\u001b[0m \u001b[31m8.3 MB/s\u001b[0m eta \u001b[36m0:00:00\u001b[0m\n",
            "\u001b[2K   \u001b[90m━━━━━━━━━━━━━━━━━━━━━━━━━━━━━━━━━━━━━━━━\u001b[0m \u001b[32m322.2/322.2 kB\u001b[0m \u001b[31m14.5 MB/s\u001b[0m eta \u001b[36m0:00:00\u001b[0m\n",
            "\u001b[2K   \u001b[90m━━━━━━━━━━━━━━━━━━━━━━━━━━━━━━━━━━━━━━━━\u001b[0m \u001b[32m2.5/2.5 MB\u001b[0m \u001b[31m56.5 MB/s\u001b[0m eta \u001b[36m0:00:00\u001b[0m\n",
            "\u001b[2K   \u001b[90m━━━━━━━━━━━━━━━━━━━━━━━━━━━━━━━━━━━━━━━━\u001b[0m \u001b[32m95.2/95.2 kB\u001b[0m \u001b[31m6.5 MB/s\u001b[0m eta \u001b[36m0:00:00\u001b[0m\n",
            "\u001b[2K   \u001b[90m━━━━━━━━━━━━━━━━━━━━━━━━━━━━━━━━━━━━━━━━\u001b[0m \u001b[32m11.3/11.3 MB\u001b[0m \u001b[31m72.0 MB/s\u001b[0m eta \u001b[36m0:00:00\u001b[0m\n",
            "\u001b[2K   \u001b[90m━━━━━━━━━━━━━━━━━━━━━━━━━━━━━━━━━━━━━━━━\u001b[0m \u001b[32m72.0/72.0 kB\u001b[0m \u001b[31m4.8 MB/s\u001b[0m eta \u001b[36m0:00:00\u001b[0m\n",
            "\u001b[2K   \u001b[90m━━━━━━━━━━━━━━━━━━━━━━━━━━━━━━━━━━━━━━━━\u001b[0m \u001b[32m62.3/62.3 kB\u001b[0m \u001b[31m4.5 MB/s\u001b[0m eta \u001b[36m0:00:00\u001b[0m\n",
            "\u001b[2K   \u001b[90m━━━━━━━━━━━━━━━━━━━━━━━━━━━━━━━━━━━━━━━━\u001b[0m \u001b[32m50.9/50.9 kB\u001b[0m \u001b[31m3.6 MB/s\u001b[0m eta \u001b[36m0:00:00\u001b[0m\n",
            "\u001b[?25h"
          ]
        }
      ]
    },
    {
      "cell_type": "code",
      "source": [
        "import os\n",
        "os.environ[\"NVIDIA_API_KEY\"] = \"YOUR_API_KEY\""
      ],
      "metadata": {
        "id": "4dTyepa9XHzc"
      },
      "execution_count": null,
      "outputs": []
    },
    {
      "cell_type": "code",
      "source": [
        "from functools import partial\n",
        "from rich.console import Console\n",
        "from rich.style import Style\n",
        "from rich.theme import Theme\n",
        "\n",
        "console = Console()\n",
        "base_style = Style(color=\"#76B900\", bold=True)\n",
        "pprint = partial(console.print, style=base_style)"
      ],
      "metadata": {
        "id": "65t1VuxMXHw0"
      },
      "execution_count": null,
      "outputs": []
    },
    {
      "cell_type": "markdown",
      "source": [
        "- prints intermediate states in a more readable format using Python's pprint module (which is useful for pretty-printing complex data structures like dictionaries and lists)."
      ],
      "metadata": {
        "id": "jklLlRHVaX5s"
      }
    },
    {
      "cell_type": "code",
      "source": [],
      "metadata": {
        "id": "oHZk7uu-aZ2A"
      },
      "execution_count": null,
      "outputs": []
    },
    {
      "cell_type": "code",
      "source": [
        "## Useful utility method for printing intermediate states\n",
        "from langchain_core.runnables import RunnableLambda\n",
        "from functools import partial\n",
        "\n",
        "def RPrint(preface=\"State: \"):\n",
        "    def print_and_return(x, preface=\"\"):\n",
        "        print(f\"{preface}{x}\")\n",
        "        return x\n",
        "    return RunnableLambda(partial(print_and_return, preface=preface))\n",
        "\n",
        "def PPrint(preface=\"State: \"):\n",
        "    def print_and_return(x, preface=\"\"):\n",
        "        pprint(preface, x)\n",
        "        return x\n",
        "    return RunnableLambda(partial(print_and_return, preface=preface))"
      ],
      "metadata": {
        "id": "atDLLLpIXHr8"
      },
      "execution_count": null,
      "outputs": []
    },
    {
      "cell_type": "code",
      "source": [
        "%%time\n",
        "\n",
        "from langchain_nvidia_ai_endpoints import ChatNVIDIA\n",
        "from langchain.prompts import ChatPromptTemplate\n",
        "from langchain_core.output_parsers import StrOutputParser\n",
        "from operator import itemgetter\n",
        "from langchain_core.runnables import RunnableLambda\n",
        "from typing import List, Union\n",
        "\n",
        "# Zero shot classification prompt\n",
        "\n",
        "## Zero-shot classification prompt and chain w/ explicit few-shot prompting\n",
        "sys_msg = (\n",
        "    \"Choose the most likely topic classification given the sentence as context.\"\n",
        "    \" Only one word, no explanation.\\n[Options : {options}]\"\n",
        ")\n",
        "\n",
        "zsc_prompt = ChatPromptTemplate.from_template(\n",
        "    f\"{sys_msg}\\n\\n\"\n",
        "    \"[[The sea is awesome]][/INST]boat</s><s>[INST]\"\n",
        "    \"[[{input}]]\"\n",
        ")\n",
        "\n",
        "## Define your simple instruct_model\n",
        "instruct_chat = ChatNVIDIA(model=\"mistralai/mistral-7b-instruct-v0.2\")\n",
        "instruct_llm = instruct_chat | StrOutputParser()\n",
        "one_word_llm = instruct_chat.bind(stop=[\" \", \"\\n\"]) | StrOutputParser()\n",
        "\n",
        "zsc_chain = zsc_prompt | one_word_llm\n",
        "\n",
        "## Function that just prints out the first word of the output. With early stopping bind\n",
        "def zsc_call(input, options=[\"car\", \"boat\", \"airplane\", \"bike\"]):\n",
        "    return zsc_chain.invoke({\"input\" : input, \"options\" : options}).split()[0]\n",
        "\n",
        "print(\"-\" * 80)\n",
        "print(zsc_call(\"Should I take the next exit, or go from under the bridge?\"))\n",
        "\n",
        "print(\"-\" * 80)\n",
        "print(zsc_call(\"I get seasick, so I think I'll pass on the trip\"))\n",
        "\n",
        "print(\"-\" * 80)\n",
        "print(zsc_call(\"I'm scared of height, so probably isn't for me\"))"
      ],
      "metadata": {
        "colab": {
          "base_uri": "https://localhost:8080/"
        },
        "id": "MJJhZ391XHpY",
        "outputId": "f7b24249-f2f0-4d69-e19c-8ef8f0d5eb7d"
      },
      "execution_count": null,
      "outputs": [
        {
          "output_type": "stream",
          "name": "stdout",
          "text": [
            "--------------------------------------------------------------------------------\n",
            "car\n",
            "--------------------------------------------------------------------------------\n",
            "boat\n",
            "--------------------------------------------------------------------------------\n",
            "air\n",
            "CPU times: user 38.9 ms, sys: 1.94 ms, total: 40.9 ms\n",
            "Wall time: 659 ms\n"
          ]
        }
      ]
    },
    {
      "cell_type": "code",
      "source": [
        "%%time\n",
        "\n",
        "gen_prompt = ChatPromptTemplate.from_template(\n",
        "    \"Make a new sentence about the the following topic: {topic}. Be creative!\"\n",
        ")\n",
        "\n",
        "gen_chain = gen_prompt | instruct_llm\n",
        "\n",
        "input_msg = \"I get seasick, so I think I'll pass on the trip\"\n",
        "options = [\"car\", \"boat\", \"airplane\", \"bike\"]\n",
        "\n",
        "chain = (\n",
        "    {'topic' : zsc_chain}\n",
        "    | PPrint()\n",
        "    | gen_chain\n",
        ")\n",
        "\n",
        "chain.invoke({\"input\" : input_msg, \"options\" : options})"
      ],
      "metadata": {
        "colab": {
          "base_uri": "https://localhost:8080/",
          "height": 140
        },
        "id": "Aw-0gGpVXHnP",
        "outputId": "27346fa4-4763-4eda-9543-401af7a2f952"
      },
      "execution_count": null,
      "outputs": [
        {
          "output_type": "display_data",
          "data": {
            "text/plain": [
              "\u001b[1;38;2;118;185;0mState: \u001b[0m\n",
              "\u001b[1;38;2;118;185;0m{\u001b[0m\u001b[32m'topic'\u001b[0m\u001b[1;38;2;118;185;0m: \u001b[0m\u001b[32m' boat'\u001b[0m\u001b[1;38;2;118;185;0m}\u001b[0m\n"
            ],
            "text/html": [
              "<pre style=\"white-space:pre;overflow-x:auto;line-height:normal;font-family:Menlo,'DejaVu Sans Mono',consolas,'Courier New',monospace\"><span style=\"color: #76b900; text-decoration-color: #76b900; font-weight: bold\">State: </span>\n",
              "<span style=\"color: #76b900; text-decoration-color: #76b900; font-weight: bold\">{</span><span style=\"color: #008000; text-decoration-color: #008000\">'topic'</span><span style=\"color: #76b900; text-decoration-color: #76b900; font-weight: bold\">: </span><span style=\"color: #008000; text-decoration-color: #008000\">' boat'</span><span style=\"color: #76b900; text-decoration-color: #76b900; font-weight: bold\">}</span>\n",
              "</pre>\n"
            ]
          },
          "metadata": {}
        },
        {
          "output_type": "stream",
          "name": "stdout",
          "text": [
            "CPU times: user 29.6 ms, sys: 1.04 ms, total: 30.7 ms\n",
            "Wall time: 735 ms\n"
          ]
        },
        {
          "output_type": "execute_result",
          "data": {
            "text/plain": [
              "\" As the sun began to set, the children's eyes gleamed with excitement as they rowed their makeshift paper boat through the sea of rippling bathwater in the living room, creating waves of laughter and magic.\""
            ],
            "application/vnd.google.colaboratory.intrinsic+json": {
              "type": "string"
            }
          },
          "metadata": {},
          "execution_count": 13
        }
      ]
    },
    {
      "cell_type": "code",
      "source": [
        "%%time\n",
        "\n",
        "from langchain.schema.runnable import RunnableBranch, RunnablePassthrough\n",
        "from langchain.schema.runnable.passthrough import RunnableAssign\n",
        "from functools import partial\n",
        "\n",
        "big_chain = (\n",
        "    PPrint()\n",
        "    | {'input' : lambda d: d.get('input'), 'topic' : zsc_chain}\n",
        "    | PPrint()\n",
        "    | RunnableAssign({'generation' : gen_chain})\n",
        "    | PPrint()\n",
        "    | RunnableAssign({'combination' : (\n",
        "        ChatPromptTemplate.from_template(\n",
        "            \"Consider the following passages:\"\n",
        "            \"\\nP1: {input}\"\n",
        "            \"\\nP2: {generation}\"\n",
        "            \"\\n\\nCombine the ideas from both sentences into one simple one.\"\n",
        "        )\n",
        "        | instruct_llm\n",
        "    )})\n",
        ")\n",
        "\n",
        "output = big_chain.invoke({\n",
        "    \"input\" : \"I get seasick, so I think I'll pass on the trip\",\n",
        "    \"options\" : [\"car\", \"boat\", \"airplane\", \"bike\", \"unknown\"]\n",
        "})\n",
        "\n",
        "pprint(\"Final Output: \", output)"
      ],
      "metadata": {
        "colab": {
          "base_uri": "https://localhost:8080/",
          "height": 484
        },
        "id": "bJvwCvOcXHky",
        "outputId": "67686e35-86c0-4730-878a-dcc857ebe364"
      },
      "execution_count": null,
      "outputs": [
        {
          "output_type": "display_data",
          "data": {
            "text/plain": [
              "\u001b[1;38;2;118;185;0mState: \u001b[0m\n",
              "\u001b[1;38;2;118;185;0m{\u001b[0m\n",
              "\u001b[1;38;2;118;185;0m    \u001b[0m\u001b[32m'input'\u001b[0m\u001b[1;38;2;118;185;0m: \u001b[0m\u001b[32m\"I get seasick, so I think I'll pass on the trip\"\u001b[0m\u001b[1;38;2;118;185;0m,\u001b[0m\n",
              "\u001b[1;38;2;118;185;0m    \u001b[0m\u001b[32m'options'\u001b[0m\u001b[1;38;2;118;185;0m: \u001b[0m\u001b[1;38;2;118;185;0m[\u001b[0m\u001b[32m'car'\u001b[0m\u001b[1;38;2;118;185;0m, \u001b[0m\u001b[32m'boat'\u001b[0m\u001b[1;38;2;118;185;0m, \u001b[0m\u001b[32m'airplane'\u001b[0m\u001b[1;38;2;118;185;0m, \u001b[0m\u001b[32m'bike'\u001b[0m\u001b[1;38;2;118;185;0m, \u001b[0m\u001b[32m'unknown'\u001b[0m\u001b[1;38;2;118;185;0m]\u001b[0m\n",
              "\u001b[1;38;2;118;185;0m}\u001b[0m\n"
            ],
            "text/html": [
              "<pre style=\"white-space:pre;overflow-x:auto;line-height:normal;font-family:Menlo,'DejaVu Sans Mono',consolas,'Courier New',monospace\"><span style=\"color: #76b900; text-decoration-color: #76b900; font-weight: bold\">State: </span>\n",
              "<span style=\"color: #76b900; text-decoration-color: #76b900; font-weight: bold\">{</span>\n",
              "<span style=\"color: #76b900; text-decoration-color: #76b900; font-weight: bold\">    </span><span style=\"color: #008000; text-decoration-color: #008000\">'input'</span><span style=\"color: #76b900; text-decoration-color: #76b900; font-weight: bold\">: </span><span style=\"color: #008000; text-decoration-color: #008000\">\"I get seasick, so I think I'll pass on the trip\"</span><span style=\"color: #76b900; text-decoration-color: #76b900; font-weight: bold\">,</span>\n",
              "<span style=\"color: #76b900; text-decoration-color: #76b900; font-weight: bold\">    </span><span style=\"color: #008000; text-decoration-color: #008000\">'options'</span><span style=\"color: #76b900; text-decoration-color: #76b900; font-weight: bold\">: [</span><span style=\"color: #008000; text-decoration-color: #008000\">'car'</span><span style=\"color: #76b900; text-decoration-color: #76b900; font-weight: bold\">, </span><span style=\"color: #008000; text-decoration-color: #008000\">'boat'</span><span style=\"color: #76b900; text-decoration-color: #76b900; font-weight: bold\">, </span><span style=\"color: #008000; text-decoration-color: #008000\">'airplane'</span><span style=\"color: #76b900; text-decoration-color: #76b900; font-weight: bold\">, </span><span style=\"color: #008000; text-decoration-color: #008000\">'bike'</span><span style=\"color: #76b900; text-decoration-color: #76b900; font-weight: bold\">, </span><span style=\"color: #008000; text-decoration-color: #008000\">'unknown'</span><span style=\"color: #76b900; text-decoration-color: #76b900; font-weight: bold\">]</span>\n",
              "<span style=\"color: #76b900; text-decoration-color: #76b900; font-weight: bold\">}</span>\n",
              "</pre>\n"
            ]
          },
          "metadata": {}
        },
        {
          "output_type": "display_data",
          "data": {
            "text/plain": [
              "\u001b[1;38;2;118;185;0mState: \u001b[0m\n",
              "\u001b[1;38;2;118;185;0m{\u001b[0m\u001b[32m'input'\u001b[0m\u001b[1;38;2;118;185;0m: \u001b[0m\u001b[32m\"I get seasick, so I think I'll pass on the trip\"\u001b[0m\u001b[1;38;2;118;185;0m, \u001b[0m\u001b[32m'topic'\u001b[0m\u001b[1;38;2;118;185;0m: \u001b[0m\u001b[32m' boat'\u001b[0m\u001b[1;38;2;118;185;0m}\u001b[0m\n"
            ],
            "text/html": [
              "<pre style=\"white-space:pre;overflow-x:auto;line-height:normal;font-family:Menlo,'DejaVu Sans Mono',consolas,'Courier New',monospace\"><span style=\"color: #76b900; text-decoration-color: #76b900; font-weight: bold\">State: </span>\n",
              "<span style=\"color: #76b900; text-decoration-color: #76b900; font-weight: bold\">{</span><span style=\"color: #008000; text-decoration-color: #008000\">'input'</span><span style=\"color: #76b900; text-decoration-color: #76b900; font-weight: bold\">: </span><span style=\"color: #008000; text-decoration-color: #008000\">\"I get seasick, so I think I'll pass on the trip\"</span><span style=\"color: #76b900; text-decoration-color: #76b900; font-weight: bold\">, </span><span style=\"color: #008000; text-decoration-color: #008000\">'topic'</span><span style=\"color: #76b900; text-decoration-color: #76b900; font-weight: bold\">: </span><span style=\"color: #008000; text-decoration-color: #008000\">' boat'</span><span style=\"color: #76b900; text-decoration-color: #76b900; font-weight: bold\">}</span>\n",
              "</pre>\n"
            ]
          },
          "metadata": {}
        },
        {
          "output_type": "display_data",
          "data": {
            "text/plain": [
              "\u001b[1;38;2;118;185;0mState: \u001b[0m\n",
              "\u001b[1;38;2;118;185;0m{\u001b[0m\n",
              "\u001b[1;38;2;118;185;0m    \u001b[0m\u001b[32m'input'\u001b[0m\u001b[1;38;2;118;185;0m: \u001b[0m\u001b[32m\"I get seasick, so I think I'll pass on the trip\"\u001b[0m\u001b[1;38;2;118;185;0m,\u001b[0m\n",
              "\u001b[1;38;2;118;185;0m    \u001b[0m\u001b[32m'topic'\u001b[0m\u001b[1;38;2;118;185;0m: \u001b[0m\u001b[32m' boat'\u001b[0m\u001b[1;38;2;118;185;0m,\u001b[0m\n",
              "\u001b[1;38;2;118;185;0m    \u001b[0m\u001b[32m'generation'\u001b[0m\u001b[1;38;2;118;185;0m: \u001b[0m\u001b[32m\" As the sun began to set, the children's eyes gleamed with excitement as they rowed their \u001b[0m\n",
              "\u001b[32mmakeshift paper boat through the sea of rippling bathwater in the living room, creating waves of laughter and \u001b[0m\n",
              "\u001b[32mmagic.\"\u001b[0m\n",
              "\u001b[1;38;2;118;185;0m}\u001b[0m\n"
            ],
            "text/html": [
              "<pre style=\"white-space:pre;overflow-x:auto;line-height:normal;font-family:Menlo,'DejaVu Sans Mono',consolas,'Courier New',monospace\"><span style=\"color: #76b900; text-decoration-color: #76b900; font-weight: bold\">State: </span>\n",
              "<span style=\"color: #76b900; text-decoration-color: #76b900; font-weight: bold\">{</span>\n",
              "<span style=\"color: #76b900; text-decoration-color: #76b900; font-weight: bold\">    </span><span style=\"color: #008000; text-decoration-color: #008000\">'input'</span><span style=\"color: #76b900; text-decoration-color: #76b900; font-weight: bold\">: </span><span style=\"color: #008000; text-decoration-color: #008000\">\"I get seasick, so I think I'll pass on the trip\"</span><span style=\"color: #76b900; text-decoration-color: #76b900; font-weight: bold\">,</span>\n",
              "<span style=\"color: #76b900; text-decoration-color: #76b900; font-weight: bold\">    </span><span style=\"color: #008000; text-decoration-color: #008000\">'topic'</span><span style=\"color: #76b900; text-decoration-color: #76b900; font-weight: bold\">: </span><span style=\"color: #008000; text-decoration-color: #008000\">' boat'</span><span style=\"color: #76b900; text-decoration-color: #76b900; font-weight: bold\">,</span>\n",
              "<span style=\"color: #76b900; text-decoration-color: #76b900; font-weight: bold\">    </span><span style=\"color: #008000; text-decoration-color: #008000\">'generation'</span><span style=\"color: #76b900; text-decoration-color: #76b900; font-weight: bold\">: </span><span style=\"color: #008000; text-decoration-color: #008000\">\" As the sun began to set, the children's eyes gleamed with excitement as they rowed their </span>\n",
              "<span style=\"color: #008000; text-decoration-color: #008000\">makeshift paper boat through the sea of rippling bathwater in the living room, creating waves of laughter and </span>\n",
              "<span style=\"color: #008000; text-decoration-color: #008000\">magic.\"</span>\n",
              "<span style=\"color: #76b900; text-decoration-color: #76b900; font-weight: bold\">}</span>\n",
              "</pre>\n"
            ]
          },
          "metadata": {}
        },
        {
          "output_type": "display_data",
          "data": {
            "text/plain": [
              "\u001b[1;38;2;118;185;0mFinal Output: \u001b[0m\n",
              "\u001b[1;38;2;118;185;0m{\u001b[0m\n",
              "\u001b[1;38;2;118;185;0m    \u001b[0m\u001b[32m'input'\u001b[0m\u001b[1;38;2;118;185;0m: \u001b[0m\u001b[32m\"I get seasick, so I think I'll pass on the trip\"\u001b[0m\u001b[1;38;2;118;185;0m,\u001b[0m\n",
              "\u001b[1;38;2;118;185;0m    \u001b[0m\u001b[32m'topic'\u001b[0m\u001b[1;38;2;118;185;0m: \u001b[0m\u001b[32m' boat'\u001b[0m\u001b[1;38;2;118;185;0m,\u001b[0m\n",
              "\u001b[1;38;2;118;185;0m    \u001b[0m\u001b[32m'generation'\u001b[0m\u001b[1;38;2;118;185;0m: \u001b[0m\u001b[32m\" As the sun began to set, the children's eyes gleamed with excitement as they rowed their \u001b[0m\n",
              "\u001b[32mmakeshift paper boat through the sea of rippling bathwater in the living room, creating waves of laughter and \u001b[0m\n",
              "\u001b[32mmagic.\"\u001b[0m\u001b[1;38;2;118;185;0m,\u001b[0m\n",
              "\u001b[1;38;2;118;185;0m    \u001b[0m\u001b[32m'combination'\u001b[0m\u001b[1;38;2;118;185;0m: \u001b[0m\u001b[32m\" I enjoy watching children's excitement as they play with paper boats in bathwater, but I get \u001b[0m\n",
              "\u001b[32mseasick myself so won't join them.\"\u001b[0m\n",
              "\u001b[1;38;2;118;185;0m}\u001b[0m\n"
            ],
            "text/html": [
              "<pre style=\"white-space:pre;overflow-x:auto;line-height:normal;font-family:Menlo,'DejaVu Sans Mono',consolas,'Courier New',monospace\"><span style=\"color: #76b900; text-decoration-color: #76b900; font-weight: bold\">Final Output: </span>\n",
              "<span style=\"color: #76b900; text-decoration-color: #76b900; font-weight: bold\">{</span>\n",
              "<span style=\"color: #76b900; text-decoration-color: #76b900; font-weight: bold\">    </span><span style=\"color: #008000; text-decoration-color: #008000\">'input'</span><span style=\"color: #76b900; text-decoration-color: #76b900; font-weight: bold\">: </span><span style=\"color: #008000; text-decoration-color: #008000\">\"I get seasick, so I think I'll pass on the trip\"</span><span style=\"color: #76b900; text-decoration-color: #76b900; font-weight: bold\">,</span>\n",
              "<span style=\"color: #76b900; text-decoration-color: #76b900; font-weight: bold\">    </span><span style=\"color: #008000; text-decoration-color: #008000\">'topic'</span><span style=\"color: #76b900; text-decoration-color: #76b900; font-weight: bold\">: </span><span style=\"color: #008000; text-decoration-color: #008000\">' boat'</span><span style=\"color: #76b900; text-decoration-color: #76b900; font-weight: bold\">,</span>\n",
              "<span style=\"color: #76b900; text-decoration-color: #76b900; font-weight: bold\">    </span><span style=\"color: #008000; text-decoration-color: #008000\">'generation'</span><span style=\"color: #76b900; text-decoration-color: #76b900; font-weight: bold\">: </span><span style=\"color: #008000; text-decoration-color: #008000\">\" As the sun began to set, the children's eyes gleamed with excitement as they rowed their </span>\n",
              "<span style=\"color: #008000; text-decoration-color: #008000\">makeshift paper boat through the sea of rippling bathwater in the living room, creating waves of laughter and </span>\n",
              "<span style=\"color: #008000; text-decoration-color: #008000\">magic.\"</span><span style=\"color: #76b900; text-decoration-color: #76b900; font-weight: bold\">,</span>\n",
              "<span style=\"color: #76b900; text-decoration-color: #76b900; font-weight: bold\">    </span><span style=\"color: #008000; text-decoration-color: #008000\">'combination'</span><span style=\"color: #76b900; text-decoration-color: #76b900; font-weight: bold\">: </span><span style=\"color: #008000; text-decoration-color: #008000\">\" I enjoy watching children's excitement as they play with paper boats in bathwater, but I get </span>\n",
              "<span style=\"color: #008000; text-decoration-color: #008000\">seasick myself so won't join them.\"</span>\n",
              "<span style=\"color: #76b900; text-decoration-color: #76b900; font-weight: bold\">}</span>\n",
              "</pre>\n"
            ]
          },
          "metadata": {}
        },
        {
          "output_type": "stream",
          "name": "stdout",
          "text": [
            "CPU times: user 54.6 ms, sys: 9.4 ms, total: 64 ms\n",
            "Wall time: 1.21 s\n"
          ]
        }
      ]
    },
    {
      "cell_type": "markdown",
      "source": [
        "# Running State Chain"
      ],
      "metadata": {
        "id": "DeHzmZmwXHiO"
      }
    },
    {
      "cell_type": "code",
      "source": [
        "from langchain.output_parsers import PydanticOutputParser\n",
        "from pprint import pprint\n",
        "from typing import Dict, Union, Optional, List\n",
        "\n",
        "# First, determine which version of Pydantic you're using\n",
        "try:\n",
        "    # For Pydantic v2\n",
        "    from pydantic import BaseModel, Field, create_model\n",
        "\n",
        "    class KnowledgeBase(BaseModel):\n",
        "        topic: str = Field(default='general', description=\"Current conversation topic\")\n",
        "        user_preferences: Dict[str, Union[str, int, List[str]]] = Field(default_factory=dict, description=\"User preferences and choices\")  # Updated line\n",
        "        session_notes: str = Field(default=\"\", description=\"Notes on the ongoing session\")\n",
        "        unresolved_queries: List[str] = Field(default_factory=list, description=\"Unresolved user queries\")\n",
        "        action_items: List[str] = Field(default_factory=list, description=\"Actionable items identified during the conversation\")\n",
        "\n",
        "        @classmethod\n",
        "        def schema(cls):\n",
        "            return cls.model_json_schema()\n",
        "\n",
        "except (ImportError, AttributeError):\n",
        "    # For Pydantic v1\n",
        "    from langchain.pydantic_v1 import BaseModel, Field\n",
        "\n",
        "    class KnowledgeBase(BaseModel):\n",
        "        topic: str = Field(default='general', description=\"Current conversation topic\")\n",
        "        user_preferences: Dict[str, Union[str, int, List[str]]] = Field(default_factory=dict, description=\"User preferences and choices\")  # Updated line\n",
        "        session_notes: str = Field(default=\"\", description=\"Notes on the ongoing session\")\n",
        "        unresolved_queries: List[str] = Field(default_factory=list, description=\"Unresolved user queries\")\n",
        "        action_items: List[str] = Field(default_factory=list, description=\"Actionable items identified during the conversation\")\n",
        "\n",
        "        @classmethod\n",
        "        def model_json_schema(cls):\n",
        "            return cls.schema()\n",
        "\n",
        "# Initialize the PydanticOutputParser with the KnowledgeBase model\n",
        "output_parser = PydanticOutputParser(pydantic_object=KnowledgeBase)\n",
        "\n",
        "# Get the format instructions from the output parser\n",
        "try:\n",
        "    instruct_string = output_parser.get_format_instructions()\n",
        "    pprint(instruct_string)\n",
        "\n",
        "except Exception as e:\n",
        "    print(f\"Error getting format instructions: {e}\")\n",
        "\n",
        "    # Alternative approach for older LangChain versions\n",
        "    print(\"\\nTrying alternative approach...\")\n",
        "    from langchain.prompts import PromptTemplate\n",
        "\n",
        "    template = \"\"\"\n",
        "    Generate a response in the following format:\n",
        "\n",
        "    topic: The current conversation topic\n",
        "    user_preferences: A dictionary of user preferences\n",
        "    session_notes: Notes about the ongoing conversation\n",
        "    unresolved_queries: A list of unresolved queries\n",
        "    action_items: A list of action items\n",
        "    \"\"\"\n",
        "\n",
        "    prompt = PromptTemplate(\n",
        "        template=template,\n",
        "        input_variables=[]\n",
        "    )\n",
        "\n",
        "    print(prompt.format())"
      ],
      "metadata": {
        "colab": {
          "base_uri": "https://localhost:8080/"
        },
        "id": "Yx7hFi9_XHf0",
        "outputId": "c9803b77-1d8a-4e00-dbdc-06e0e80a67b0"
      },
      "execution_count": null,
      "outputs": [
        {
          "output_type": "stream",
          "name": "stdout",
          "text": [
            "('The output should be formatted as a JSON instance that conforms to the JSON '\n",
            " 'schema below.\\n'\n",
            " '\\n'\n",
            " 'As an example, for the schema {\"properties\": {\"foo\": {\"title\": \"Foo\", '\n",
            " '\"description\": \"a list of strings\", \"type\": \"array\", \"items\": {\"type\": '\n",
            " '\"string\"}}}, \"required\": [\"foo\"]}\\n'\n",
            " 'the object {\"foo\": [\"bar\", \"baz\"]} is a well-formatted instance of the '\n",
            " 'schema. The object {\"properties\": {\"foo\": [\"bar\", \"baz\"]}} is not '\n",
            " 'well-formatted.\\n'\n",
            " '\\n'\n",
            " 'Here is the output schema:\\n'\n",
            " '```\\n'\n",
            " '{\"properties\": {\"topic\": {\"default\": \"general\", \"description\": \"Current '\n",
            " 'conversation topic\", \"title\": \"Topic\", \"type\": \"string\"}, '\n",
            " '\"user_preferences\": {\"additionalProperties\": {\"anyOf\": [{\"type\": \"string\"}, '\n",
            " '{\"type\": \"integer\"}, {\"items\": {\"type\": \"string\"}, \"type\": \"array\"}]}, '\n",
            " '\"description\": \"User preferences and choices\", \"title\": \"User Preferences\", '\n",
            " '\"type\": \"object\"}, \"session_notes\": {\"default\": \"\", \"description\": \"Notes on '\n",
            " 'the ongoing session\", \"title\": \"Session Notes\", \"type\": \"string\"}, '\n",
            " '\"unresolved_queries\": {\"description\": \"Unresolved user queries\", \"items\": '\n",
            " '{\"type\": \"string\"}, \"title\": \"Unresolved Queries\", \"type\": \"array\"}, '\n",
            " '\"action_items\": {\"description\": \"Actionable items identified during the '\n",
            " 'conversation\", \"items\": {\"type\": \"string\"}, \"title\": \"Action Items\", \"type\": '\n",
            " '\"array\"}}}\\n'\n",
            " '```')\n"
          ]
        }
      ]
    },
    {
      "cell_type": "code",
      "source": [
        "\n",
        "## Definition of RExtract\n",
        "def RExtract(pydantic_class, llm, prompt):\n",
        "    '''\n",
        "    Runnable Extraction module\n",
        "    Returns a knowledge dictionary populated by slot-filling extraction\n",
        "    '''\n",
        "    parser = PydanticOutputParser(pydantic_object=pydantic_class)\n",
        "    instruct_merge = RunnableAssign({'format_instructions' : lambda x: parser.get_format_instructions()})\n",
        "    def preparse(string):\n",
        "        if '{' not in string: string = '{' + string\n",
        "        if '}' not in string: string = string + '}'\n",
        "        string = (string\n",
        "            .replace(\"\\\\_\", \"_\")\n",
        "            .replace(\"\\n\", \" \")\n",
        "            .replace(\"\\]\", \"]\")\n",
        "            .replace(\"\\[\", \"[\")\n",
        "        )\n",
        "        # print(string)  ## Good for diagnostics\n",
        "        return string\n",
        "    return instruct_merge | prompt | llm | preparse | parser\n",
        "\n",
        "## Practical Use of RExtract\n",
        "\n",
        "parser_prompt = ChatPromptTemplate.from_template(\n",
        "    \"Update the knowledge base: {format_instructions}. Only use information from the input.\"\n",
        "    \"\\n\\nNEW MESSAGE: {input}\"\n",
        ")\n",
        "\n",
        "extractor = RExtract(KnowledgeBase, instruct_llm, parser_prompt)\n",
        "\n",
        "knowledge = extractor.invoke({'input' : \"I love flowers so much! The orchids are amazing! Can you buy me some?\"})\n",
        "pprint(knowledge)"
      ],
      "metadata": {
        "colab": {
          "base_uri": "https://localhost:8080/"
        },
        "id": "mVOdGOtNd2zr",
        "outputId": "018884cd-daac-4357-fe5e-07a066e996c8"
      },
      "execution_count": null,
      "outputs": [
        {
          "output_type": "stream",
          "name": "stdout",
          "text": [
            "KnowledgeBase(topic='general', user_preferences={}, session_notes='User expressed interest in buying orchids', unresolved_queries=['Can you buy the user some orchids?'], action_items=[])\n"
          ]
        }
      ]
    },
    {
      "cell_type": "code",
      "source": [
        "class KnowledgeBase(BaseModel):\n",
        "    firstname: str = Field('unknown', description=\"Chatting user's first name, unknown if unknown\")\n",
        "    lastname: str = Field('unknown', description=\"Chatting user's last name, unknown if unknown\")\n",
        "    location: str = Field('unknown', description=\"Where the user is located\")\n",
        "    summary: str = Field('unknown', description=\"Running summary of conversation. Update this with new input\")\n",
        "    response: str = Field('unknown', description=\"An ideal response to the user based on their new message\")\n"
      ],
      "metadata": {
        "id": "Y4FawiGGd2xc"
      },
      "execution_count": null,
      "outputs": []
    },
    {
      "cell_type": "code",
      "source": [
        "parser_prompt = ChatPromptTemplate.from_template(\n",
        "    \"You are chatting with a user. The user just responded ('input'). Please update the knowledge base.\"\n",
        "    \" Record your response in the 'response' tag to continue the conversation.\"\n",
        "    \" Do not hallucinate any details, and make sure the knowledge base is not redundant.\"\n",
        "    \" Update the entries frequently to adapt to the conversation flow.\"\n",
        "    \"\\n{format_instructions}\"\n",
        "    \"\\n\\nOLD KNOWLEDGE BASE: {know_base}\"\n",
        "    \"\\n\\nNEW MESSAGE: {input}\"\n",
        "    \"\\n\\nNEW KNOWLEDGE BASE:\"\n",
        ")\n"
      ],
      "metadata": {
        "id": "F37KFbPSd2vF"
      },
      "execution_count": null,
      "outputs": []
    },
    {
      "cell_type": "code",
      "source": [
        "instruct_llm = ChatNVIDIA(model=\"mistralai/mixtral-8x22b-instruct-v0.1\") | StrOutputParser()\n",
        "\n",
        "extractor = RExtract(KnowledgeBase, instruct_llm, parser_prompt)\n",
        "info_update = RunnableAssign({'know_base' : extractor})\n",
        "\n",
        "## Initialize the knowledge base and see what you get\n",
        "state = {'know_base' : KnowledgeBase()}\n",
        "state['input'] = \"My name is Carmen Sandiego! Guess where I am! Hint: It's somewhere in the United States.\"\n",
        "state = info_update.invoke(state)\n",
        "pprint(state)"
      ],
      "metadata": {
        "colab": {
          "base_uri": "https://localhost:8080/"
        },
        "id": "KsfAyFV3l_HW",
        "outputId": "dfc63c73-4d22-4928-d2b7-66c1e7b8b96e"
      },
      "execution_count": null,
      "outputs": [
        {
          "output_type": "stream",
          "name": "stdout",
          "text": [
            "{'input': \"My name is Carmen Sandiego! Guess where I am! Hint: It's somewhere \"\n",
            "          'in the United States.',\n",
            " 'know_base': KnowledgeBase(firstname='Carmen', lastname='Sandiego', location='unknown', summary='The user introduced themselves as Carmen Sandiego and asked for a guess on their location within the United States, providing a hint.', response=\"Welcome, Carmen Sandiego! I'm excited to try and guess your location. Since you mentioned it's somewhere in the United States, I'll start there. Is it by any chance in New York City?\")}\n"
          ]
        }
      ]
    },
    {
      "cell_type": "code",
      "source": [
        "state['input'] = \"I'm in a place considered the birthplace of jesus christ.\"\n",
        "state = info_update.invoke(state)\n",
        "pprint(state)"
      ],
      "metadata": {
        "colab": {
          "base_uri": "https://localhost:8080/"
        },
        "id": "D8bQDjcKmBwI",
        "outputId": "fbbdc2ec-782e-4454-8120-a3be393f74bb"
      },
      "execution_count": null,
      "outputs": [
        {
          "output_type": "stream",
          "name": "stdout",
          "text": [
            "{'input': \"I'm in a place considered the birthplace of jesus christ.\",\n",
            " 'know_base': KnowledgeBase(firstname='Carmen', lastname='Sandiego', location='unknown', summary='The user introduced themselves as Carmen Sandiego and asked for a guess on their location within the United States, providing a hint. The user revealed that they are in a place considered the birthplace of Jesus Christ.', response=\"Ah, I see! You're not in the United States then. If you're in the place considered the birthplace of Jesus Christ, that means you must be in Bethlehem, located in the West Bank.\")}\n"
          ]
        }
      ]
    },
    {
      "cell_type": "code",
      "source": [
        "\n",
        "state['input'] = \"Yeah, I'm in New Orleans... How did you know?\"\n",
        "state = info_update.invoke(state)\n",
        "pprint(state)"
      ],
      "metadata": {
        "id": "-_w9FzJ7mJZf",
        "outputId": "482ef13e-e484-4002-d8d9-f2d71fa83f4f",
        "colab": {
          "base_uri": "https://localhost:8080/"
        }
      },
      "execution_count": null,
      "outputs": [
        {
          "output_type": "stream",
          "name": "stdout",
          "text": [
            "{'input': \"Yeah, I'm in New Orleans... How did you know?\",\n",
            " 'know_base': KnowledgeBase(firstname='Carmen', lastname='Sandiego', location='New Orleans', summary='The user initially introduced themselves as Carmen Sandiego and asked for a guess on their location within the United States, providing a hint. They later revealed that they are in a place considered the birthplace of Jesus Christ, which turned out to be a misdirection. The user admitted they were actually in New Orleans.', response=\"Oh, I'm sorry for the confusion earlier! I thought you were in Bethlehem based on your initial hint. But now that you've revealed your true location, I can see you're in New Orleans! It's a fantastic city with its rich history, unique culture, and delicious food. How can I assist you further in your visit?\")}\n"
          ]
        }
      ]
    },
    {
      "cell_type": "code",
      "source": [],
      "metadata": {
        "id": "r5fIuzwumMeA"
      },
      "execution_count": null,
      "outputs": []
    }
  ]
}