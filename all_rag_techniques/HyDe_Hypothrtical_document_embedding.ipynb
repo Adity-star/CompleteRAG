{
  "nbformat": 4,
  "nbformat_minor": 0,
  "metadata": {
    "colab": {
      "provenance": []
    },
    "kernelspec": {
      "name": "python3",
      "display_name": "Python 3"
    },
    "language_info": {
      "name": "python"
    }
  },
  "cells": [
    {
      "cell_type": "markdown",
      "source": [
        "# Hypothetical Document Embedding (HyDE) in Document Retrieval\n",
        "This code implements a Hypothetical Document Embedding (HyDE) system for document retrieval. HyDE is an innovative approach that transforms query questions into hypothetical documents containing the answer, aiming to bridge the gap between query and document distributions in vector space."
      ],
      "metadata": {
        "id": "XkppBPQXsZYW"
      }
    },
    {
      "cell_type": "code",
      "execution_count": null,
      "metadata": {
        "id": "ysl3o3vSsBIN"
      },
      "outputs": [],
      "source": [
        "!pip install langchain langchain-openai python-dotenv chromadb pypdf python-dotenv"
      ]
    },
    {
      "cell_type": "code",
      "source": [
        "import os\n",
        "import sys\n",
        "from dotenv import load_dotenv\n",
        "\n",
        "# Load environment variables from a .env file\n",
        "load_dotenv()\n",
        "\n",
        "# Set the OpenAI API key environment variable\n",
        "os.environ[\"OPENAI_API_KEY\"] = os.getenv('OPENAI_API_KEY')"
      ],
      "metadata": {
        "id": "t-O14PqcyOM1"
      },
      "execution_count": null,
      "outputs": []
    },
    {
      "cell_type": "code",
      "source": [
        "\n",
        "path = \"/content/climate-change-evidence-causes.pdf\""
      ],
      "metadata": {
        "id": "PIY3g1fNsJ3g"
      },
      "execution_count": 15,
      "outputs": []
    },
    {
      "cell_type": "markdown",
      "source": [
        "## Define the HyDe retriever class - creating vector store, generating hypothetical document, and retrieving"
      ],
      "metadata": {
        "id": "Ah0jOGnXsJ1B"
      }
    },
    {
      "cell_type": "code",
      "source": [
        "from langchain_openai import OpenAIEmbeddings\n",
        "from langchain_community.vectorstores import Chroma\n",
        "from langchain.text_splitter import RecursiveCharacterTextSplitter\n",
        "from langchain.document_loaders import PyPDFLoader\n",
        "from langchain.prompts import PromptTemplate\n",
        "from langchain_openai import ChatOpenAI\n",
        "\n",
        "\n",
        "def encode_pdf(file_path, chunk_size, chunk_overlap):\n",
        "    \"\"\"Loads a PDF, chunks it, and creates a Chroma vector store.\"\"\"\n",
        "    loader = PyPDFLoader(file_path)\n",
        "    documents = loader.load()\n",
        "    text_splitter = RecursiveCharacterTextSplitter(chunk_size=chunk_size, chunk_overlap=chunk_overlap)\n",
        "    texts = text_splitter.split_documents(documents)\n",
        "    embeddings = OpenAIEmbeddings()\n",
        "    # Create and store locally the vectorestore\n",
        "    db = Chroma.from_documents(texts, embeddings, persist_directory=\"db\")\n",
        "    db.persist()\n",
        "    return db\n",
        "\n"
      ],
      "metadata": {
        "id": "rucBcJSsu4VZ"
      },
      "execution_count": 16,
      "outputs": []
    },
    {
      "cell_type": "code",
      "source": [
        "\n",
        "class HyDERetriver:\n",
        "  def __init__(self, files_path, chunk_size=500, chunk_overlap=0):\n",
        "    self.llm = ChatOpenAI(temperature=0, model_name=\"gpt-4o-mini\", max_tokens=4000)\n",
        "    self.embeddings = OpenAIEmbeddings()\n",
        "    self.chunk_size = chunk_size\n",
        "    self.chunk_overlap = chunk_overlap\n",
        "    self.vectorestore = encode_pdf(files_path, chunk_size=self.chunk_size,chunk_overlap=self.chunk_overlap)\n",
        "    self.hyde_prompt = PromptTemplate(\n",
        "      input_variables=[\"query\", \"chunk_size\"],\n",
        "            template=\"\"\"Given the question '{query}', generate a hypothetical document that directly answers this question. The document should be detailed and in-depth.\n",
        "            the document size has be exactly {chunk_size} characters.\"\"\",\n",
        "        )\n",
        "    self.hyde_chain = self.hyde_prompt | self.llm\n",
        "\n",
        "  def generate_hypothetical_doc(self, query):\n",
        "    input_variables = {\"query\": query, \"chunk_size\": self.chunk_size}\n",
        "    return self.hyde_chain.invoke(input_variables).content\n",
        "\n",
        "  def retrivel(self, query, k=3):\n",
        "    hypothetical_doc = self.generate_hypothetical_doc(query)\n",
        "    similar_doc = self.vectorestore.similarity_search(hypothetical_doc, k=k)\n",
        "    return similar_doc, hypothetical_doc"
      ],
      "metadata": {
        "id": "YKjiuEjgsJys"
      },
      "execution_count": 28,
      "outputs": []
    },
    {
      "cell_type": "code",
      "source": [
        "retriver = HyDERetriver(path)"
      ],
      "metadata": {
        "id": "tc8vJk6DsJra"
      },
      "execution_count": 29,
      "outputs": []
    },
    {
      "cell_type": "code",
      "source": [
        "test_query = \"what is main cause of climate change\"\n",
        "results, hypothetical_doc = retriver.retrivel(test_query)"
      ],
      "metadata": {
        "id": "l_oSutNmsJpE"
      },
      "execution_count": 30,
      "outputs": []
    },
    {
      "cell_type": "code",
      "source": [
        "import textwrap\n",
        "docs_content = [doc.page_content for doc in results]\n",
        "print(\"hypothetical_doc:\\n\")\n",
        "print(textwrap.wrap(hypothetical_doc, width=80))\n"
      ],
      "metadata": {
        "colab": {
          "base_uri": "https://localhost:8080/"
        },
        "id": "9M8mM18csJms",
        "outputId": "477f0461-b0f5-46b2-9660-ee036d23749a"
      },
      "execution_count": 39,
      "outputs": [
        {
          "output_type": "stream",
          "name": "stdout",
          "text": [
            "hypothetical_doc:\n",
            "\n",
            "['**Climate Change Report**  **Main Cause of Climate Change: Human Activities**', 'The primary cause of climate change is the result of human activities,', 'primarily:  1. **Greenhouse Gas Emissions**: 65% of CO2 emissions come from', 'fossil fuel combustion (coal, oil, gas). 2. **Deforestation**: 20% of emissions', 'result from land use changes, mainly deforestation. 3. **Agriculture**: 10% of', 'emissions come from agriculture, specifically beef, rice, and wheat production.', '4. **Industrial Processes**: 5% of emissions are from cement production and', 'other industrial processes.  Human activities release massive amounts of CO2 and', 'other greenhouse gases, leading to a global average temperature increase of 1°C', 'since the late 1800s.']\n"
          ]
        }
      ]
    },
    {
      "cell_type": "code",
      "source": [],
      "metadata": {
        "id": "wCIFscPBsJkJ"
      },
      "execution_count": null,
      "outputs": []
    }
  ]
}